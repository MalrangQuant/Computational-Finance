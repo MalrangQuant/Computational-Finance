{
 "cells": [
  {
   "cell_type": "code",
   "execution_count": 1,
   "metadata": {},
   "outputs": [],
   "source": [
    "import pandas as pd"
   ]
  },
  {
   "cell_type": "code",
   "execution_count": 2,
   "metadata": {},
   "outputs": [
    {
     "data": {
      "text/html": [
       "<div>\n",
       "<style scoped>\n",
       "    .dataframe tbody tr th:only-of-type {\n",
       "        vertical-align: middle;\n",
       "    }\n",
       "\n",
       "    .dataframe tbody tr th {\n",
       "        vertical-align: top;\n",
       "    }\n",
       "\n",
       "    .dataframe thead th {\n",
       "        text-align: right;\n",
       "    }\n",
       "</style>\n",
       "<table border=\"1\" class=\"dataframe\">\n",
       "  <thead>\n",
       "    <tr style=\"text-align: right;\">\n",
       "      <th></th>\n",
       "      <th>satisfaction</th>\n",
       "      <th>evaluation</th>\n",
       "      <th>project</th>\n",
       "      <th>workhour</th>\n",
       "      <th>years</th>\n",
       "      <th>accident</th>\n",
       "      <th>resign</th>\n",
       "      <th>promotion</th>\n",
       "      <th>good</th>\n",
       "    </tr>\n",
       "  </thead>\n",
       "  <tbody>\n",
       "    <tr>\n",
       "      <th>0</th>\n",
       "      <td>0.38</td>\n",
       "      <td>0.53</td>\n",
       "      <td>2</td>\n",
       "      <td>157</td>\n",
       "      <td>3</td>\n",
       "      <td>0</td>\n",
       "      <td>1</td>\n",
       "      <td>0</td>\n",
       "      <td>0</td>\n",
       "    </tr>\n",
       "    <tr>\n",
       "      <th>1</th>\n",
       "      <td>0.80</td>\n",
       "      <td>0.86</td>\n",
       "      <td>5</td>\n",
       "      <td>262</td>\n",
       "      <td>6</td>\n",
       "      <td>0</td>\n",
       "      <td>1</td>\n",
       "      <td>0</td>\n",
       "      <td>1</td>\n",
       "    </tr>\n",
       "    <tr>\n",
       "      <th>2</th>\n",
       "      <td>0.11</td>\n",
       "      <td>0.88</td>\n",
       "      <td>7</td>\n",
       "      <td>272</td>\n",
       "      <td>4</td>\n",
       "      <td>0</td>\n",
       "      <td>1</td>\n",
       "      <td>0</td>\n",
       "      <td>1</td>\n",
       "    </tr>\n",
       "    <tr>\n",
       "      <th>3</th>\n",
       "      <td>0.72</td>\n",
       "      <td>0.87</td>\n",
       "      <td>5</td>\n",
       "      <td>223</td>\n",
       "      <td>5</td>\n",
       "      <td>0</td>\n",
       "      <td>1</td>\n",
       "      <td>0</td>\n",
       "      <td>1</td>\n",
       "    </tr>\n",
       "    <tr>\n",
       "      <th>4</th>\n",
       "      <td>0.37</td>\n",
       "      <td>0.52</td>\n",
       "      <td>2</td>\n",
       "      <td>159</td>\n",
       "      <td>3</td>\n",
       "      <td>0</td>\n",
       "      <td>1</td>\n",
       "      <td>0</td>\n",
       "      <td>0</td>\n",
       "    </tr>\n",
       "  </tbody>\n",
       "</table>\n",
       "</div>"
      ],
      "text/plain": [
       "   satisfaction  evaluation  project  workhour  years  accident  resign  \\\n",
       "0          0.38        0.53        2       157      3         0       1   \n",
       "1          0.80        0.86        5       262      6         0       1   \n",
       "2          0.11        0.88        7       272      4         0       1   \n",
       "3          0.72        0.87        5       223      5         0       1   \n",
       "4          0.37        0.52        2       159      3         0       1   \n",
       "\n",
       "   promotion  good  \n",
       "0          0     0  \n",
       "1          0     1  \n",
       "2          0     1  \n",
       "3          0     1  \n",
       "4          0     0  "
      ]
     },
     "execution_count": 2,
     "metadata": {},
     "output_type": "execute_result"
    }
   ],
   "source": [
    "resign_df = pd.read_csv('./Data/resign.csv')\n",
    "resign_df.head()"
   ]
  },
  {
   "cell_type": "code",
   "execution_count": 4,
   "metadata": {},
   "outputs": [],
   "source": [
    "from sklearn.preprocessing import StandardScaler\n",
    "scaler = StandardScaler()\n",
    "resign_df_X = scaler.fit_transform(resign_df.iloc[:, [0, 1, 2, 3, 4, 5, 7]])\n",
    "resign_df_Y = resign_df['resign']"
   ]
  },
  {
   "cell_type": "code",
   "execution_count": 5,
   "metadata": {},
   "outputs": [],
   "source": [
    "from sklearn.model_selection import train_test_split\n",
    "x_train, x_test, y_train, y_test = train_test_split(\\\n",
    "    resign_df_X, resign_df_Y, test_size=0.2, random_state=0)"
   ]
  },
  {
   "cell_type": "code",
   "execution_count": 7,
   "metadata": {},
   "outputs": [
    {
     "name": "stderr",
     "output_type": "stream",
     "text": [
      "2022-09-30 13:34:57.748407: I tensorflow/core/common_runtime/pluggable_device/pluggable_device_factory.cc:305] Could not identify NUMA node of platform GPU ID 0, defaulting to 0. Your kernel may not have been built with NUMA support.\n",
      "2022-09-30 13:34:57.749299: I tensorflow/core/common_runtime/pluggable_device/pluggable_device_factory.cc:271] Created TensorFlow device (/job:localhost/replica:0/task:0/device:GPU:0 with 0 MB memory) -> physical PluggableDevice (device: 0, name: METAL, pci bus id: <undefined>)\n"
     ]
    },
    {
     "name": "stdout",
     "output_type": "stream",
     "text": [
      "Metal device set to: Apple M1\n",
      "\n",
      "systemMemory: 16.00 GB\n",
      "maxCacheSize: 5.33 GB\n",
      "\n"
     ]
    }
   ],
   "source": [
    "import tensorflow as tf\n",
    "model = tf.keras.Sequential()\n",
    "model.add(tf.keras.layers.Dense( units=3, input_dim=7, activation='relu'))\n",
    "model.add(tf.keras.layers.Dense( units=1, activation='sigmoid'))"
   ]
  },
  {
   "cell_type": "code",
   "execution_count": 8,
   "metadata": {},
   "outputs": [
    {
     "name": "stdout",
     "output_type": "stream",
     "text": [
      "Model: \"sequential\"\n",
      "_________________________________________________________________\n",
      "Layer (type)                 Output Shape              Param #   \n",
      "=================================================================\n",
      "dense (Dense)                (None, 3)                 24        \n",
      "_________________________________________________________________\n",
      "dense_1 (Dense)              (None, 1)                 4         \n",
      "=================================================================\n",
      "Total params: 28\n",
      "Trainable params: 28\n",
      "Non-trainable params: 0\n",
      "_________________________________________________________________\n"
     ]
    }
   ],
   "source": [
    "model.summary()"
   ]
  },
  {
   "cell_type": "markdown",
   "metadata": {},
   "source": [
    "위에서 보면, add한것이 Hidden 이므로, 7개의 히든이 존재하며, 이게 3개에 연결되어있는 것"
   ]
  },
  {
   "cell_type": "code",
   "execution_count": 9,
   "metadata": {},
   "outputs": [],
   "source": [
    "model.compile( optimizer='sgd', loss='binary_crossentropy', metrics=['accuracy'])"
   ]
  },
  {
   "cell_type": "code",
   "execution_count": 10,
   "metadata": {},
   "outputs": [
    {
     "name": "stderr",
     "output_type": "stream",
     "text": [
      "2022-09-30 13:35:57.037004: W tensorflow/core/platform/profile_utils/cpu_utils.cc:128] Failed to get CPU frequency: 0 Hz\n",
      "2022-09-30 13:35:57.159174: I tensorflow/core/grappler/optimizers/custom_graph_optimizer_registry.cc:112] Plugin optimizer for device_type GPU is enabled.\n"
     ]
    },
    {
     "name": "stdout",
     "output_type": "stream",
     "text": [
      "Epoch 1/40\n",
      "300/300 [==============================] - 3s 5ms/step - loss: 0.7057 - accuracy: 0.6053 - val_loss: 0.5580 - val_accuracy: 0.7404\n",
      "Epoch 2/40\n",
      "  1/300 [..............................] - ETA: 1s - loss: 0.5191 - accuracy: 0.8125"
     ]
    },
    {
     "name": "stderr",
     "output_type": "stream",
     "text": [
      "2022-09-30 13:35:59.484037: I tensorflow/core/grappler/optimizers/custom_graph_optimizer_registry.cc:112] Plugin optimizer for device_type GPU is enabled.\n"
     ]
    },
    {
     "name": "stdout",
     "output_type": "stream",
     "text": [
      "300/300 [==============================] - 1s 5ms/step - loss: 0.5243 - accuracy: 0.7559 - val_loss: 0.4954 - val_accuracy: 0.7708\n",
      "Epoch 3/40\n",
      "300/300 [==============================] - 1s 5ms/step - loss: 0.4753 - accuracy: 0.7881 - val_loss: 0.4507 - val_accuracy: 0.8029\n",
      "Epoch 4/40\n",
      "300/300 [==============================] - 1s 5ms/step - loss: 0.4317 - accuracy: 0.8045 - val_loss: 0.4077 - val_accuracy: 0.8096\n",
      "Epoch 5/40\n",
      "300/300 [==============================] - 1s 5ms/step - loss: 0.3913 - accuracy: 0.8279 - val_loss: 0.3689 - val_accuracy: 0.8713\n",
      "Epoch 6/40\n",
      "300/300 [==============================] - 1s 5ms/step - loss: 0.3567 - accuracy: 0.8896 - val_loss: 0.3364 - val_accuracy: 0.9096\n",
      "Epoch 7/40\n",
      "300/300 [==============================] - 1s 5ms/step - loss: 0.3284 - accuracy: 0.9093 - val_loss: 0.3101 - val_accuracy: 0.9183\n",
      "Epoch 8/40\n",
      "300/300 [==============================] - 1s 4ms/step - loss: 0.3055 - accuracy: 0.9113 - val_loss: 0.2888 - val_accuracy: 0.9200\n",
      "Epoch 9/40\n",
      "300/300 [==============================] - 1s 5ms/step - loss: 0.2870 - accuracy: 0.9126 - val_loss: 0.2716 - val_accuracy: 0.9233\n",
      "Epoch 10/40\n",
      "300/300 [==============================] - 1s 5ms/step - loss: 0.2719 - accuracy: 0.9135 - val_loss: 0.2574 - val_accuracy: 0.9246\n",
      "Epoch 11/40\n",
      "300/300 [==============================] - 1s 5ms/step - loss: 0.2593 - accuracy: 0.9149 - val_loss: 0.2456 - val_accuracy: 0.9271\n",
      "Epoch 12/40\n",
      "300/300 [==============================] - 1s 5ms/step - loss: 0.2486 - accuracy: 0.9183 - val_loss: 0.2357 - val_accuracy: 0.9300\n",
      "Epoch 13/40\n",
      "300/300 [==============================] - 1s 5ms/step - loss: 0.2396 - accuracy: 0.9222 - val_loss: 0.2273 - val_accuracy: 0.9325\n",
      "Epoch 14/40\n",
      "300/300 [==============================] - 1s 5ms/step - loss: 0.2318 - accuracy: 0.9261 - val_loss: 0.2200 - val_accuracy: 0.9358\n",
      "Epoch 15/40\n",
      "300/300 [==============================] - 1s 5ms/step - loss: 0.2248 - accuracy: 0.9295 - val_loss: 0.2136 - val_accuracy: 0.9400\n",
      "Epoch 16/40\n",
      "300/300 [==============================] - 1s 4ms/step - loss: 0.2188 - accuracy: 0.9340 - val_loss: 0.2082 - val_accuracy: 0.9425\n",
      "Epoch 17/40\n",
      "300/300 [==============================] - 1s 5ms/step - loss: 0.2135 - accuracy: 0.9359 - val_loss: 0.2031 - val_accuracy: 0.9429\n",
      "Epoch 18/40\n",
      "300/300 [==============================] - 1s 5ms/step - loss: 0.2089 - accuracy: 0.9379 - val_loss: 0.1989 - val_accuracy: 0.9438\n",
      "Epoch 19/40\n",
      "300/300 [==============================] - 1s 5ms/step - loss: 0.2049 - accuracy: 0.9401 - val_loss: 0.1952 - val_accuracy: 0.9450\n",
      "Epoch 20/40\n",
      "300/300 [==============================] - 1s 5ms/step - loss: 0.2015 - accuracy: 0.9408 - val_loss: 0.1922 - val_accuracy: 0.9463\n",
      "Epoch 21/40\n",
      "300/300 [==============================] - 1s 5ms/step - loss: 0.1985 - accuracy: 0.9421 - val_loss: 0.1892 - val_accuracy: 0.9467\n",
      "Epoch 22/40\n",
      "300/300 [==============================] - 1s 5ms/step - loss: 0.1959 - accuracy: 0.9426 - val_loss: 0.1864 - val_accuracy: 0.9471\n",
      "Epoch 23/40\n",
      "300/300 [==============================] - 1s 5ms/step - loss: 0.1936 - accuracy: 0.9423 - val_loss: 0.1841 - val_accuracy: 0.9500\n",
      "Epoch 24/40\n",
      "300/300 [==============================] - 1s 5ms/step - loss: 0.1915 - accuracy: 0.9440 - val_loss: 0.1819 - val_accuracy: 0.9504\n",
      "Epoch 25/40\n",
      "300/300 [==============================] - 1s 5ms/step - loss: 0.1896 - accuracy: 0.9443 - val_loss: 0.1803 - val_accuracy: 0.9513\n",
      "Epoch 26/40\n",
      "300/300 [==============================] - 1s 5ms/step - loss: 0.1880 - accuracy: 0.9448 - val_loss: 0.1787 - val_accuracy: 0.9521\n",
      "Epoch 27/40\n",
      "300/300 [==============================] - 1s 5ms/step - loss: 0.1865 - accuracy: 0.9456 - val_loss: 0.1770 - val_accuracy: 0.9525\n",
      "Epoch 28/40\n",
      "300/300 [==============================] - 1s 5ms/step - loss: 0.1852 - accuracy: 0.9461 - val_loss: 0.1758 - val_accuracy: 0.9525\n",
      "Epoch 29/40\n",
      "300/300 [==============================] - 1s 4ms/step - loss: 0.1840 - accuracy: 0.9465 - val_loss: 0.1746 - val_accuracy: 0.9533\n",
      "Epoch 30/40\n",
      "300/300 [==============================] - 1s 5ms/step - loss: 0.1830 - accuracy: 0.9463 - val_loss: 0.1733 - val_accuracy: 0.9542\n",
      "Epoch 31/40\n",
      "300/300 [==============================] - 1s 5ms/step - loss: 0.1821 - accuracy: 0.9470 - val_loss: 0.1724 - val_accuracy: 0.9546\n",
      "Epoch 32/40\n",
      "300/300 [==============================] - 1s 5ms/step - loss: 0.1812 - accuracy: 0.9470 - val_loss: 0.1715 - val_accuracy: 0.9554\n",
      "Epoch 33/40\n",
      "300/300 [==============================] - 1s 5ms/step - loss: 0.1803 - accuracy: 0.9474 - val_loss: 0.1706 - val_accuracy: 0.9554\n",
      "Epoch 34/40\n",
      "300/300 [==============================] - 1s 5ms/step - loss: 0.1796 - accuracy: 0.9479 - val_loss: 0.1699 - val_accuracy: 0.9554\n",
      "Epoch 35/40\n",
      "300/300 [==============================] - 1s 5ms/step - loss: 0.1789 - accuracy: 0.9481 - val_loss: 0.1691 - val_accuracy: 0.9554\n",
      "Epoch 36/40\n",
      "300/300 [==============================] - 1s 5ms/step - loss: 0.1782 - accuracy: 0.9485 - val_loss: 0.1684 - val_accuracy: 0.9546\n",
      "Epoch 37/40\n",
      "300/300 [==============================] - 1s 5ms/step - loss: 0.1776 - accuracy: 0.9487 - val_loss: 0.1678 - val_accuracy: 0.9563\n",
      "Epoch 38/40\n",
      "300/300 [==============================] - 1s 5ms/step - loss: 0.1771 - accuracy: 0.9490 - val_loss: 0.1675 - val_accuracy: 0.9558\n",
      "Epoch 39/40\n",
      "300/300 [==============================] - 1s 5ms/step - loss: 0.1765 - accuracy: 0.9494 - val_loss: 0.1667 - val_accuracy: 0.9558\n",
      "Epoch 40/40\n",
      "300/300 [==============================] - 1s 5ms/step - loss: 0.1760 - accuracy: 0.9494 - val_loss: 0.1664 - val_accuracy: 0.9558\n"
     ]
    }
   ],
   "source": [
    "result = model.fit(x_train, y_train, validation_split=0.2, epochs=40, verbose=1)"
   ]
  },
  {
   "cell_type": "code",
   "execution_count": 12,
   "metadata": {},
   "outputs": [
    {
     "data": {
      "image/png": "[encoded data removed]",
      "text/plain": [
       "<Figure size 432x288 with 1 Axes>"
      ]
     },
     "metadata": {
      "needs_background": "light"
     },
     "output_type": "display_data"
    }
   ],
   "source": [
    "import matplotlib.pyplot as plt\n",
    "import numpy as np\n",
    "\n",
    "epochs = np.arange(1, 40+1)\n",
    "plt.plot(epochs, result.history['loss'], label='training loss')\n",
    "plt.plot(epochs, result.history['val_loss'], label='validation loss')\n",
    "plt.xlabel('Epochs')\n",
    "plt.ylabel('Loss')\n",
    "plt.legend()\n",
    "plt.show()"
   ]
  },
  {
   "cell_type": "code",
   "execution_count": 13,
   "metadata": {},
   "outputs": [
    {
     "data": {
      "image/png": "[encoded data removed]",
      "text/plain": [
       "<Figure size 432x288 with 1 Axes>"
      ]
     },
     "metadata": {
      "needs_background": "light"
     },
     "output_type": "display_data"
    }
   ],
   "source": [
    "epochs = np.arange(1, 40+1)\n",
    "plt.plot(epochs, result.history['accuracy'], label='training accuracy')\n",
    "plt.plot(epochs, result.history['val_accuracy'], label='validation accuracy')\n",
    "plt.xlabel('Epochs')\n",
    "plt.ylabel('Accuracy')\n",
    "plt.legend()\n",
    "plt.show()"
   ]
  },
  {
   "cell_type": "code",
   "execution_count": 15,
   "metadata": {},
   "outputs": [
    {
     "name": "stdout",
     "output_type": "stream",
     "text": [
      "94/94 [==============================] - 0s 3ms/step - loss: 0.1677 - accuracy: 0.9510\n"
     ]
    },
    {
     "data": {
      "text/plain": [
       "[0.16767433285713196, 0.9509999752044678]"
      ]
     },
     "execution_count": 15,
     "metadata": {},
     "output_type": "execute_result"
    }
   ],
   "source": [
    "model.evaluate(x_test, y_test)"
   ]
  },
  {
   "cell_type": "code",
   "execution_count": 16,
   "metadata": {},
   "outputs": [
    {
     "data": {
      "text/plain": [
       "array([-0.69516483, -0.85358047, -1.46286291, -1.20241514, -0.34123516,\n",
       "       -0.41116529, -0.14741182])"
      ]
     },
     "execution_count": 16,
     "metadata": {},
     "output_type": "execute_result"
    }
   ],
   "source": [
    "x_test[0, ]"
   ]
  },
  {
   "cell_type": "code",
   "execution_count": 17,
   "metadata": {},
   "outputs": [
    {
     "name": "stderr",
     "output_type": "stream",
     "text": [
      "2022-09-30 13:40:34.436430: I tensorflow/core/grappler/optimizers/custom_graph_optimizer_registry.cc:112] Plugin optimizer for device_type GPU is enabled.\n"
     ]
    },
    {
     "data": {
      "text/plain": [
       "array([[0.61399996]], dtype=float32)"
      ]
     },
     "execution_count": 17,
     "metadata": {},
     "output_type": "execute_result"
    }
   ],
   "source": [
    "x_new = [[-0.7, -0.9, -1.3, -0.9, -0.3, 0.4, -0.02]]\n",
    "y_pred = model.predict(x_new)\n",
    "y_pred"
   ]
  }
 ],
 "metadata": {
  "kernelspec": {
   "display_name": "Python 3.8.12 ('tensorflow')",
   "language": "python",
   "name": "python3"
  },
  "language_info": {
   "codemirror_mode": {
    "name": "ipython",
    "version": 3
   },
   "file_extension": ".py",
   "mimetype": "text/x-python",
   "name": "python",
   "nbconvert_exporter": "python",
   "pygments_lexer": "ipython3",
   "version": "3.8.12"
  },
  "orig_nbformat": 4,
  "vscode": {
   "interpreter": {
    "hash": "4bd624a0593993fe43ac4046b27b898fb2ef75c21c08f81e89e64ea0f51df676"
   }
  }
 },
 "nbformat": 4,
 "nbformat_minor": 2
}
