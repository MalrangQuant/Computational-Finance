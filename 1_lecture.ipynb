{
 "cells": [
  {
   "cell_type": "markdown",
   "metadata": {},
   "source": [
    "# Ch1_실습\n",
    "\n",
    "> 9/2, 2022"
   ]
  },
  {
   "cell_type": "markdown",
   "metadata": {},
   "source": [
    "## 1. 텐서 데이터 만들기"
   ]
  },
  {
   "cell_type": "code",
   "execution_count": 1,
   "metadata": {},
   "outputs": [],
   "source": [
    "import tensorflow as tf\n",
    "import numpy as np"
   ]
  },
  {
   "cell_type": "code",
   "execution_count": 2,
   "metadata": {},
   "outputs": [
    {
     "name": "stderr",
     "output_type": "stream",
     "text": [
      "2022-09-16 15:24:48.644298: I tensorflow/core/common_runtime/pluggable_device/pluggable_device_factory.cc:305] Could not identify NUMA node of platform GPU ID 0, defaulting to 0. Your kernel may not have been built with NUMA support.\n",
      "2022-09-16 15:24:48.644407: I tensorflow/core/common_runtime/pluggable_device/pluggable_device_factory.cc:271] Created TensorFlow device (/job:localhost/replica:0/task:0/device:GPU:0 with 0 MB memory) -> physical PluggableDevice (device: 0, name: METAL, pci bus id: <undefined>)\n"
     ]
    },
    {
     "name": "stdout",
     "output_type": "stream",
     "text": [
      "Metal device set to: Apple M1\n",
      "\n",
      "systemMemory: 16.00 GB\n",
      "maxCacheSize: 5.33 GB\n",
      "\n"
     ]
    }
   ],
   "source": [
    "test = tf.constant(123)"
   ]
  },
  {
   "cell_type": "code",
   "execution_count": 3,
   "metadata": {},
   "outputs": [
    {
     "data": {
      "text/plain": [
       "<tf.Tensor: shape=(), dtype=int32, numpy=123>"
      ]
     },
     "execution_count": 3,
     "metadata": {},
     "output_type": "execute_result"
    }
   ],
   "source": [
    "test"
   ]
  },
  {
   "cell_type": "code",
   "execution_count": 4,
   "metadata": {},
   "outputs": [
    {
     "name": "stdout",
     "output_type": "stream",
     "text": [
      "tf.Tensor(123, shape=(), dtype=int32)\n"
     ]
    }
   ],
   "source": [
    "print(test)"
   ]
  },
  {
   "cell_type": "code",
   "execution_count": 5,
   "metadata": {},
   "outputs": [
    {
     "data": {
      "text/plain": [
       "123"
      ]
     },
     "execution_count": 5,
     "metadata": {},
     "output_type": "execute_result"
    }
   ],
   "source": [
    "test.numpy()"
   ]
  },
  {
   "cell_type": "code",
   "execution_count": 6,
   "metadata": {},
   "outputs": [
    {
     "data": {
      "text/plain": [
       "<tf.Tensor: shape=(3,), dtype=float32, numpy=array([1.2      , 5.       , 3.1415927], dtype=float32)>"
      ]
     },
     "execution_count": 6,
     "metadata": {},
     "output_type": "execute_result"
    }
   ],
   "source": [
    "tf.constant([1.2, 5, np.pi], dtype=tf.float32)"
   ]
  },
  {
   "cell_type": "code",
   "execution_count": 7,
   "metadata": {},
   "outputs": [
    {
     "data": {
      "text/plain": [
       "array([[1, 2, 3],\n",
       "       [4, 5, 6]])"
      ]
     },
     "execution_count": 7,
     "metadata": {},
     "output_type": "execute_result"
    }
   ],
   "source": [
    "ndarr = np.array([[1, 2, 3], [4, 5, 6]])\n",
    "ndarr"
   ]
  },
  {
   "cell_type": "code",
   "execution_count": 8,
   "metadata": {},
   "outputs": [
    {
     "data": {
      "text/plain": [
       "<tf.Tensor: shape=(2, 3), dtype=int64, numpy=\n",
       "array([[1, 2, 3],\n",
       "       [4, 5, 6]])>"
      ]
     },
     "execution_count": 8,
     "metadata": {},
     "output_type": "execute_result"
    }
   ],
   "source": [
    "tsarr = tf.convert_to_tensor(ndarr)\n",
    "tsarr"
   ]
  },
  {
   "cell_type": "markdown",
   "metadata": {},
   "source": [
    "## 2. 텐서 데이터 타입, 크기"
   ]
  },
  {
   "cell_type": "code",
   "execution_count": 9,
   "metadata": {},
   "outputs": [
    {
     "data": {
      "text/plain": [
       "TensorShape([2, 3])"
      ]
     },
     "execution_count": 9,
     "metadata": {},
     "output_type": "execute_result"
    }
   ],
   "source": [
    "tsarr.shape"
   ]
  },
  {
   "cell_type": "code",
   "execution_count": 10,
   "metadata": {},
   "outputs": [
    {
     "data": {
      "text/plain": [
       "2"
      ]
     },
     "execution_count": 10,
     "metadata": {},
     "output_type": "execute_result"
    }
   ],
   "source": [
    "tsarr.ndim"
   ]
  },
  {
   "cell_type": "code",
   "execution_count": 11,
   "metadata": {},
   "outputs": [
    {
     "data": {
      "text/plain": [
       "tf.int64"
      ]
     },
     "execution_count": 11,
     "metadata": {},
     "output_type": "execute_result"
    }
   ],
   "source": [
    "tsarr.dtype"
   ]
  },
  {
   "cell_type": "code",
   "execution_count": 12,
   "metadata": {},
   "outputs": [
    {
     "data": {
      "text/plain": [
       "<tf.Tensor: shape=(2, 3), dtype=float64, numpy=\n",
       "array([[1., 2., 3.],\n",
       "       [4., 5., 6.]])>"
      ]
     },
     "execution_count": 12,
     "metadata": {},
     "output_type": "execute_result"
    }
   ],
   "source": [
    "'''텐서를 새로운 형태로 캐스팅하는데 사용'''\n",
    "tf.cast(tsarr, dtype=tf.float64)"
   ]
  },
  {
   "cell_type": "code",
   "execution_count": 13,
   "metadata": {},
   "outputs": [
    {
     "data": {
      "text/plain": [
       "array([[0.7616675 , 0.10874474, 0.31633246, 0.7931069 ],\n",
       "       [0.0094167 , 0.4497099 , 0.661577  , 0.8408805 ],\n",
       "       [0.35615516, 0.74151087, 0.95126843, 0.02696645]], dtype=float32)"
      ]
     },
     "execution_count": 13,
     "metadata": {},
     "output_type": "execute_result"
    }
   ],
   "source": [
    "t = tf.random.uniform(shape=(3,4))\n",
    "t.numpy()"
   ]
  },
  {
   "cell_type": "code",
   "execution_count": 14,
   "metadata": {},
   "outputs": [
    {
     "data": {
      "text/plain": [
       "array([[0.7616675 , 0.0094167 , 0.35615516],\n",
       "       [0.10874474, 0.4497099 , 0.74151087],\n",
       "       [0.31633246, 0.661577  , 0.95126843],\n",
       "       [0.7931069 , 0.8408805 , 0.02696645]], dtype=float32)"
      ]
     },
     "execution_count": 14,
     "metadata": {},
     "output_type": "execute_result"
    }
   ],
   "source": [
    "t_tr = tf.transpose(t)\n",
    "t_tr.numpy()"
   ]
  },
  {
   "cell_type": "code",
   "execution_count": 15,
   "metadata": {},
   "outputs": [
    {
     "data": {
      "text/plain": [
       "array([[0.7616675 , 0.10874474],\n",
       "       [0.31633246, 0.7931069 ],\n",
       "       [0.0094167 , 0.4497099 ],\n",
       "       [0.661577  , 0.8408805 ],\n",
       "       [0.35615516, 0.74151087],\n",
       "       [0.95126843, 0.02696645]], dtype=float32)"
      ]
     },
     "execution_count": 15,
     "metadata": {},
     "output_type": "execute_result"
    }
   ],
   "source": [
    "t_sh = tf.reshape(t, shape=(6,2))\n",
    "t_sh.numpy()"
   ]
  },
  {
   "cell_type": "markdown",
   "metadata": {},
   "source": [
    "## 3. 수학 연산의 적용"
   ]
  },
  {
   "cell_type": "code",
   "execution_count": 16,
   "metadata": {},
   "outputs": [],
   "source": [
    "a = tf.constant(10)\n",
    "b = tf.constant(20)\n",
    "c = tf.constant(30)"
   ]
  },
  {
   "cell_type": "code",
   "execution_count": 17,
   "metadata": {},
   "outputs": [
    {
     "data": {
      "text/plain": [
       "'텐서 꼬라지 : shape=(), dtype=**, numpy=() 이고 이걸 부르면 됨'"
      ]
     },
     "execution_count": 17,
     "metadata": {},
     "output_type": "execute_result"
    }
   ],
   "source": [
    "'''텐서 꼬라지 : shape=(), dtype=**, numpy=() 이고 이걸 부르면 됨'''"
   ]
  },
  {
   "cell_type": "code",
   "execution_count": 18,
   "metadata": {},
   "outputs": [
    {
     "data": {
      "text/plain": [
       "30"
      ]
     },
     "execution_count": 18,
     "metadata": {},
     "output_type": "execute_result"
    }
   ],
   "source": [
    "ad = tf.add(a, b)\n",
    "ad.numpy()"
   ]
  },
  {
   "cell_type": "code",
   "execution_count": 19,
   "metadata": {},
   "outputs": [
    {
     "data": {
      "text/plain": [
       "-10"
      ]
     },
     "execution_count": 19,
     "metadata": {},
     "output_type": "execute_result"
    }
   ],
   "source": [
    "sb = tf.subtract(a, b)\n",
    "sb.numpy()"
   ]
  },
  {
   "cell_type": "code",
   "execution_count": 20,
   "metadata": {},
   "outputs": [
    {
     "data": {
      "text/plain": [
       "200"
      ]
     },
     "execution_count": 20,
     "metadata": {},
     "output_type": "execute_result"
    }
   ],
   "source": [
    "ml = tf.multiply(a, b)\n",
    "ml.numpy()"
   ]
  },
  {
   "cell_type": "code",
   "execution_count": 21,
   "metadata": {},
   "outputs": [
    {
     "data": {
      "text/plain": [
       "0.5"
      ]
     },
     "execution_count": 21,
     "metadata": {},
     "output_type": "execute_result"
    }
   ],
   "source": [
    "dv = tf.divide(a, b)\n",
    "dv.numpy()"
   ]
  },
  {
   "cell_type": "code",
   "execution_count": 22,
   "metadata": {},
   "outputs": [
    {
     "data": {
      "text/plain": [
       "20"
      ]
     },
     "execution_count": 22,
     "metadata": {},
     "output_type": "execute_result"
    }
   ],
   "source": [
    "'''평균같은거, 특정 차원을 제거하고 평균 구함 >> 즉 스칼라 나옴'''\n",
    "tf.reduce_mean([a, b, c]).numpy()"
   ]
  },
  {
   "cell_type": "code",
   "execution_count": 23,
   "metadata": {},
   "outputs": [
    {
     "data": {
      "text/plain": [
       "60"
      ]
     },
     "execution_count": 23,
     "metadata": {},
     "output_type": "execute_result"
    }
   ],
   "source": [
    "'''특정 차원을 제거하고 합을 구함 >> 결국 스칼라 구함'''\n",
    "tf.reduce_sum([a, b, c]).numpy()"
   ]
  },
  {
   "cell_type": "code",
   "execution_count": 24,
   "metadata": {},
   "outputs": [
    {
     "data": {
      "text/plain": [
       "array([[ 0.523335  , -0.7825105 ],\n",
       "       [-0.36733508,  0.5862138 ],\n",
       "       [-0.9811666 , -0.10058022],\n",
       "       [ 0.32315397,  0.681761  ],\n",
       "       [-0.2876897 ,  0.48302174]], dtype=float32)"
      ]
     },
     "execution_count": 24,
     "metadata": {},
     "output_type": "execute_result"
    }
   ],
   "source": [
    "'''Uniform 분포'''\n",
    "M1 = tf.random.uniform( shape=(5,2), minval = -1.0, maxval = 1.0 )\n",
    "M1.numpy()"
   ]
  },
  {
   "cell_type": "code",
   "execution_count": 25,
   "metadata": {},
   "outputs": [
    {
     "data": {
      "text/plain": [
       "array([[-0.5344868 ,  0.21918245],\n",
       "       [ 2.1869078 , -1.173357  ],\n",
       "       [ 0.91499674, -0.79123557],\n",
       "       [ 0.9765298 ,  0.7357058 ],\n",
       "       [-1.0643325 ,  1.4019252 ]], dtype=float32)"
      ]
     },
     "execution_count": 25,
     "metadata": {},
     "output_type": "execute_result"
    }
   ],
   "source": [
    "M2 = tf.random.normal( shape = (5,2), mean = 0.0, stddev = 1.0)\n",
    "M2.numpy()"
   ]
  },
  {
   "cell_type": "code",
   "execution_count": 26,
   "metadata": {},
   "outputs": [
    {
     "data": {
      "text/plain": [
       "array([-0.15794049,  0.17358117], dtype=float32)"
      ]
     },
     "execution_count": 26,
     "metadata": {},
     "output_type": "execute_result"
    }
   ],
   "source": [
    "tf.reduce_mean( M1, axis=0 ).numpy()"
   ]
  },
  {
   "cell_type": "code",
   "execution_count": 27,
   "metadata": {},
   "outputs": [
    {
     "data": {
      "text/plain": [
       "array([[-0.27971563, -0.17151257],\n",
       "       [-0.8033279 , -0.6878381 ],\n",
       "       [-0.89776427,  0.07958265],\n",
       "       [ 0.3155695 ,  0.5015755 ],\n",
       "       [ 0.30619746,  0.6771603 ]], dtype=float32)"
      ]
     },
     "execution_count": 27,
     "metadata": {},
     "output_type": "execute_result"
    }
   ],
   "source": [
    "tf.multiply( M1, M2 ).numpy()"
   ]
  },
  {
   "cell_type": "code",
   "execution_count": 28,
   "metadata": {},
   "outputs": [
    {
     "data": {
      "text/plain": [
       "<tf.Tensor: shape=(5, 5), dtype=float32, numpy=\n",
       "array([[-0.4512282 ,  2.0626495 ,  1.0979999 , -0.06464535, -1.6540236 ],\n",
       "       [ 0.32482353, -1.491166  , -0.7999436 ,  0.07256727,  1.2127947 ],\n",
       "       [ 0.5023751 , -2.0277045 , -0.8181816 , -1.0321358 ,  0.90328157],\n",
       "       [-0.02329147, -0.09324112, -0.24374877,  0.817145  ,  0.61183465],\n",
       "       [ 0.25963622, -1.1959078 , -0.6454191 ,  0.07442433,  0.9833578 ]],\n",
       "      dtype=float32)>"
      ]
     },
     "execution_count": 28,
     "metadata": {},
     "output_type": "execute_result"
    }
   ],
   "source": [
    "tf.matmul( M1, tf.transpose(M2))"
   ]
  },
  {
   "cell_type": "code",
   "execution_count": 29,
   "metadata": {},
   "outputs": [
    {
     "data": {
      "text/plain": [
       "<tf.Tensor: shape=(2, 2), dtype=float32, numpy=\n",
       "array([[-1.3590407 ,  1.1564817 ],\n",
       "       [ 1.7598705 ,  0.39896783]], dtype=float32)>"
      ]
     },
     "execution_count": 29,
     "metadata": {},
     "output_type": "execute_result"
    }
   ],
   "source": [
    "tf.matmul(tf.transpose(M1), M2)"
   ]
  },
  {
   "cell_type": "code",
   "execution_count": 30,
   "metadata": {},
   "outputs": [
    {
     "data": {
      "text/plain": [
       "<tf.Tensor: shape=(2, 2), dtype=float32, numpy=\n",
       "array([[-1.3590407 ,  1.1564817 ],\n",
       "       [ 1.7598705 ,  0.39896783]], dtype=float32)>"
      ]
     },
     "execution_count": 30,
     "metadata": {},
     "output_type": "execute_result"
    }
   ],
   "source": [
    "tf.transpose(M1) @ M2"
   ]
  },
  {
   "cell_type": "code",
   "execution_count": 31,
   "metadata": {},
   "outputs": [
    {
     "data": {
      "text/plain": [
       "-2.4123616e-23"
      ]
     },
     "execution_count": 31,
     "metadata": {},
     "output_type": "execute_result"
    }
   ],
   "source": [
    "np.linalg.det(M1 @ tf.transpose(M2))"
   ]
  },
  {
   "cell_type": "code",
   "execution_count": 32,
   "metadata": {},
   "outputs": [
    {
     "data": {
      "text/plain": [
       "array([[-0.15479039,  0.44868845],\n",
       "       [ 0.68278944,  0.5272767 ]], dtype=float32)"
      ]
     },
     "execution_count": 32,
     "metadata": {},
     "output_type": "execute_result"
    }
   ],
   "source": [
    "np.linalg.inv(tf.transpose(M1) @ M2)"
   ]
  },
  {
   "cell_type": "code",
   "execution_count": 33,
   "metadata": {},
   "outputs": [
    {
     "data": {
      "text/plain": [
       "(array([-2.1557174,  1.1956445], dtype=float32),\n",
       " array([[-0.8235112 , -0.41240194],\n",
       "        [ 0.5673    , -0.911002  ]], dtype=float32))"
      ]
     },
     "execution_count": 33,
     "metadata": {},
     "output_type": "execute_result"
    }
   ],
   "source": [
    "np.linalg.eig(tf.transpose(M1) @ M2)"
   ]
  },
  {
   "cell_type": "code",
   "execution_count": 34,
   "metadata": {},
   "outputs": [
    {
     "data": {
      "text/plain": [
       "array([0.94138324, 0.691796  , 0.98630846, 0.75447106, 0.5622058 ],\n",
       "      dtype=float32)"
      ]
     },
     "execution_count": 34,
     "metadata": {},
     "output_type": "execute_result"
    }
   ],
   "source": [
    "tf.norm(M1, ord=2, axis=1).numpy()"
   ]
  },
  {
   "cell_type": "markdown",
   "metadata": {},
   "source": [
    "## 4. 텐서 데이터의 분할 및 통합"
   ]
  },
  {
   "cell_type": "code",
   "execution_count": 35,
   "metadata": {},
   "outputs": [
    {
     "data": {
      "text/plain": [
       "array([0.7616675 , 0.10874474, 0.31633246, 0.7931069 , 0.0094167 ,\n",
       "       0.4497099 ], dtype=float32)"
      ]
     },
     "execution_count": 35,
     "metadata": {},
     "output_type": "execute_result"
    }
   ],
   "source": [
    "t = tf.random.uniform((6,))\n",
    "t.numpy()"
   ]
  },
  {
   "cell_type": "code",
   "execution_count": 36,
   "metadata": {},
   "outputs": [
    {
     "data": {
      "text/plain": [
       "[array([0.7616675 , 0.10874474], dtype=float32),\n",
       " array([0.31633246, 0.7931069 ], dtype=float32),\n",
       " array([0.0094167, 0.4497099], dtype=float32)]"
      ]
     },
     "execution_count": 36,
     "metadata": {},
     "output_type": "execute_result"
    }
   ],
   "source": [
    "t_spl = tf.split(t, num_or_size_splits=3)\n",
    "[item.numpy() for item in t_spl]"
   ]
  },
  {
   "cell_type": "code",
   "execution_count": 37,
   "metadata": {},
   "outputs": [
    {
     "data": {
      "text/plain": [
       "array([[0.7616675 , 0.10874474, 0.31633246],\n",
       "       [0.7931069 , 0.0094167 , 0.4497099 ],\n",
       "       [0.661577  , 0.8408805 , 0.35615516],\n",
       "       [0.74151087, 0.95126843, 0.02696645],\n",
       "       [0.55506694, 0.85192037, 0.6035267 ],\n",
       "       [0.35154068, 0.59561145, 0.10358393]], dtype=float32)"
      ]
     },
     "execution_count": 37,
     "metadata": {},
     "output_type": "execute_result"
    }
   ],
   "source": [
    "t2 = tf.random.uniform((6,3))\n",
    "t2.numpy()"
   ]
  },
  {
   "cell_type": "code",
   "execution_count": 38,
   "metadata": {},
   "outputs": [
    {
     "data": {
      "text/plain": [
       "[array([[0.7616675 , 0.10874474, 0.31633246],\n",
       "        [0.7931069 , 0.0094167 , 0.4497099 ],\n",
       "        [0.661577  , 0.8408805 , 0.35615516],\n",
       "        [0.74151087, 0.95126843, 0.02696645]], dtype=float32),\n",
       " array([[0.55506694, 0.85192037, 0.6035267 ],\n",
       "        [0.35154068, 0.59561145, 0.10358393]], dtype=float32)]"
      ]
     },
     "execution_count": 38,
     "metadata": {},
     "output_type": "execute_result"
    }
   ],
   "source": [
    "t_spl2 = tf.split(t2, num_or_size_splits=[4,2])\n",
    "[item.numpy() for item in t_spl2]"
   ]
  },
  {
   "cell_type": "code",
   "execution_count": 39,
   "metadata": {},
   "outputs": [
    {
     "data": {
      "text/plain": [
       "[array([[0.7616675 , 0.10874474, 0.31633246],\n",
       "        [0.7931069 , 0.0094167 , 0.4497099 ],\n",
       "        [0.661577  , 0.8408805 , 0.35615516],\n",
       "        [0.74151087, 0.95126843, 0.02696645]], dtype=float32),\n",
       " array([[0.55506694, 0.85192037, 0.6035267 ],\n",
       "        [0.35154068, 0.59561145, 0.10358393]], dtype=float32)]"
      ]
     },
     "execution_count": 39,
     "metadata": {},
     "output_type": "execute_result"
    }
   ],
   "source": [
    "t_spl3 = tf.split(t2,num_or_size_splits=[4,2], axis=0)\n",
    "[item.numpy() for item in t_spl3]"
   ]
  },
  {
   "cell_type": "code",
   "execution_count": 40,
   "metadata": {},
   "outputs": [
    {
     "data": {
      "text/plain": [
       "array([[0.7616675 , 0.10874474, 0.31633246, 0.7616675 ],\n",
       "       [0.7931069 , 0.0094167 , 0.4497099 , 0.10874474],\n",
       "       [0.661577  , 0.8408805 , 0.35615516, 0.31633246],\n",
       "       [0.74151087, 0.95126843, 0.02696645, 0.7931069 ],\n",
       "       [0.55506694, 0.85192037, 0.6035267 , 0.0094167 ],\n",
       "       [0.35154068, 0.59561145, 0.10358393, 0.4497099 ]], dtype=float32)"
      ]
     },
     "execution_count": 40,
     "metadata": {},
     "output_type": "execute_result"
    }
   ],
   "source": [
    "t_conc = tf.concat([t2, tf.reshape(t, (6,1))], axis=1)\n",
    "t_conc.numpy()"
   ]
  },
  {
   "cell_type": "code",
   "execution_count": 41,
   "metadata": {},
   "outputs": [
    {
     "data": {
      "text/plain": [
       "<tf.Tensor: shape=(7, 4), dtype=float32, numpy=\n",
       "array([[0.7616675 , 0.10874474, 0.31633246, 0.7616675 ],\n",
       "       [0.7931069 , 0.0094167 , 0.4497099 , 0.10874474],\n",
       "       [0.661577  , 0.8408805 , 0.35615516, 0.31633246],\n",
       "       [0.74151087, 0.95126843, 0.02696645, 0.7931069 ],\n",
       "       [0.55506694, 0.85192037, 0.6035267 , 0.0094167 ],\n",
       "       [0.35154068, 0.59561145, 0.10358393, 0.4497099 ],\n",
       "       [0.7616675 , 0.10874474, 0.31633246, 0.7931069 ]], dtype=float32)>"
      ]
     },
     "execution_count": 41,
     "metadata": {},
     "output_type": "execute_result"
    }
   ],
   "source": [
    "tf.concat([t_conc, tf.random.uniform((1,4))], axis=0)"
   ]
  },
  {
   "cell_type": "markdown",
   "metadata": {},
   "source": [
    "## 5. tf.data를 활용한 데이터 전처리"
   ]
  },
  {
   "cell_type": "code",
   "execution_count": 42,
   "metadata": {},
   "outputs": [
    {
     "data": {
      "text/plain": [
       "[1.1, 2.2, 3.3, 4.4, 5.5, 6.6, 7.7]"
      ]
     },
     "execution_count": 42,
     "metadata": {},
     "output_type": "execute_result"
    }
   ],
   "source": [
    "arr1 = [1.1, 2.2, 3.3, 4.4, 5.5, 6.6, 7.7]\n",
    "arr1"
   ]
  },
  {
   "cell_type": "code",
   "execution_count": 43,
   "metadata": {},
   "outputs": [
    {
     "name": "stdout",
     "output_type": "stream",
     "text": [
      "<TensorSliceDataset shapes: (), types: tf.float32>\n"
     ]
    }
   ],
   "source": [
    "ds1 = tf.data.Dataset.from_tensor_slices(arr1)\n",
    "print(ds1)"
   ]
  },
  {
   "cell_type": "code",
   "execution_count": 44,
   "metadata": {},
   "outputs": [
    {
     "name": "stdout",
     "output_type": "stream",
     "text": [
      "tf.Tensor(1.1, shape=(), dtype=float32)\n",
      "tf.Tensor(2.2, shape=(), dtype=float32)\n",
      "tf.Tensor(3.3, shape=(), dtype=float32)\n",
      "tf.Tensor(4.4, shape=(), dtype=float32)\n",
      "tf.Tensor(5.5, shape=(), dtype=float32)\n",
      "tf.Tensor(6.6, shape=(), dtype=float32)\n",
      "tf.Tensor(7.7, shape=(), dtype=float32)\n"
     ]
    }
   ],
   "source": [
    "for item in ds1:\n",
    "    print(item)"
   ]
  },
  {
   "cell_type": "code",
   "execution_count": 45,
   "metadata": {},
   "outputs": [
    {
     "name": "stdout",
     "output_type": "stream",
     "text": [
      "tf.Tensor([1.1 2.2 3.3], shape=(3,), dtype=float32)\n",
      "tf.Tensor([4.4 5.5 6.6], shape=(3,), dtype=float32)\n",
      "tf.Tensor([7.7], shape=(1,), dtype=float32)\n"
     ]
    }
   ],
   "source": [
    "ds1_batch = ds1.batch(3)\n",
    "for item in ds1_batch:\n",
    "    print(item)"
   ]
  },
  {
   "cell_type": "code",
   "execution_count": 46,
   "metadata": {},
   "outputs": [],
   "source": [
    "tf.random.set_seed(1)\n",
    "X = tf.random.uniform(shape=(10,3), dtype=tf.float32)\n",
    "Y = tf.range(1, 11)"
   ]
  },
  {
   "cell_type": "code",
   "execution_count": 47,
   "metadata": {},
   "outputs": [
    {
     "data": {
      "text/plain": [
       "array([[0.22721505, 0.46685362, 0.18047357],\n",
       "       [0.54388   , 0.1589073 , 0.7124685 ],\n",
       "       [0.29731095, 0.01537108, 0.41788483],\n",
       "       [0.17046809, 0.56689847, 0.8050971 ],\n",
       "       [0.27858877, 0.2300477 , 0.71309495],\n",
       "       [0.30758882, 0.62882245, 0.7907176 ],\n",
       "       [0.5688009 , 0.59878814, 0.5122006 ],\n",
       "       [0.758917  , 0.66667914, 0.9368491 ],\n",
       "       [0.03850842, 0.74011517, 0.96218586],\n",
       "       [0.8567523 , 0.47222304, 0.9584228 ]], dtype=float32)"
      ]
     },
     "execution_count": 47,
     "metadata": {},
     "output_type": "execute_result"
    }
   ],
   "source": [
    "X.numpy()"
   ]
  },
  {
   "cell_type": "code",
   "execution_count": 48,
   "metadata": {},
   "outputs": [
    {
     "data": {
      "text/plain": [
       "array([ 1,  2,  3,  4,  5,  6,  7,  8,  9, 10], dtype=int32)"
      ]
     },
     "execution_count": 48,
     "metadata": {},
     "output_type": "execute_result"
    }
   ],
   "source": [
    "Y.numpy()"
   ]
  },
  {
   "cell_type": "code",
   "execution_count": 49,
   "metadata": {},
   "outputs": [],
   "source": [
    "ds_X = tf.data.Dataset.from_tensor_slices(X)\n",
    "ds_Y = tf.data.Dataset.from_tensor_slices(Y)\n",
    "ds_joint = tf.data.Dataset.zip((ds_X, ds_Y))"
   ]
  },
  {
   "cell_type": "code",
   "execution_count": 50,
   "metadata": {},
   "outputs": [
    {
     "name": "stdout",
     "output_type": "stream",
     "text": [
      "[0.22721505 0.46685362 0.18047357] : 1\n",
      "[0.54388   0.1589073 0.7124685] : 2\n",
      "[0.29731095 0.01537108 0.41788483] : 3\n",
      "[0.17046809 0.56689847 0.8050971 ] : 4\n",
      "[0.27858877 0.2300477  0.71309495] : 5\n",
      "[0.30758882 0.62882245 0.7907176 ] : 6\n",
      "[0.5688009  0.59878814 0.5122006 ] : 7\n",
      "[0.758917   0.66667914 0.9368491 ] : 8\n",
      "[0.03850842 0.74011517 0.96218586] : 9\n",
      "[0.8567523  0.47222304 0.9584228 ] : 10\n"
     ]
    }
   ],
   "source": [
    "for item in ds_joint:\n",
    "    print(item[0].numpy(), ':', item[1].numpy())"
   ]
  },
  {
   "cell_type": "code",
   "execution_count": 51,
   "metadata": {},
   "outputs": [],
   "source": [
    "ds_trans = ds_joint.map(lambda x, y: (x*2-1, y/10))"
   ]
  },
  {
   "cell_type": "code",
   "execution_count": 52,
   "metadata": {},
   "outputs": [
    {
     "name": "stdout",
     "output_type": "stream",
     "text": [
      "[-0.5455699  -0.06629276 -0.63905287] : 0.1\n",
      "[ 0.08775997 -0.6821854   0.424937  ] : 0.2\n",
      "[-0.4053781  -0.96925783 -0.16423035] : 0.3\n",
      "[-0.6590638   0.13379693  0.6101942 ] : 0.4\n",
      "[-0.44282246 -0.5399046   0.4261899 ] : 0.5\n",
      "[-0.38482237  0.2576449   0.5814352 ] : 0.6\n",
      "[0.13760185 0.19757628 0.02440119] : 0.7\n",
      "[0.51783395 0.3333583  0.87369823] : 0.8\n",
      "[-0.92298317  0.48023033  0.9243717 ] : 0.9\n",
      "[ 0.71350455 -0.05555391  0.91684556] : 1.0\n"
     ]
    },
    {
     "name": "stderr",
     "output_type": "stream",
     "text": [
      "2022-09-16 15:24:51.417428: W tensorflow/core/platform/profile_utils/cpu_utils.cc:128] Failed to get CPU frequency: 0 Hz\n"
     ]
    }
   ],
   "source": [
    "for item in ds_trans:\n",
    "    print(item[0].numpy(), ':', item[1].numpy())"
   ]
  },
  {
   "cell_type": "code",
   "execution_count": 53,
   "metadata": {},
   "outputs": [
    {
     "name": "stdout",
     "output_type": "stream",
     "text": [
      "[0.17046809 0.56689847 0.8050971 ] : 4\n",
      "[0.03850842 0.74011517 0.96218586] : 9\n",
      "[0.22721505 0.46685362 0.18047357] : 1\n",
      "[0.8567523  0.47222304 0.9584228 ] : 10\n",
      "[0.54388   0.1589073 0.7124685] : 2\n",
      "[0.5688009  0.59878814 0.5122006 ] : 7\n",
      "[0.758917   0.66667914 0.9368491 ] : 8\n",
      "[0.30758882 0.62882245 0.7907176 ] : 6\n",
      "[0.29731095 0.01537108 0.41788483] : 3\n",
      "[0.27858877 0.2300477  0.71309495] : 5\n"
     ]
    }
   ],
   "source": [
    "ds_shfl = ds_joint.shuffle(buffer_size = len(X))\n",
    "for item in ds_shfl:\n",
    "    print(item[0].numpy(), ':', item[1].numpy())"
   ]
  },
  {
   "cell_type": "code",
   "execution_count": 54,
   "metadata": {},
   "outputs": [
    {
     "name": "stdout",
     "output_type": "stream",
     "text": [
      "[[0.22721505 0.46685362 0.18047357]\n",
      " [0.54388    0.1589073  0.7124685 ]\n",
      " [0.29731095 0.01537108 0.41788483]] : [1 2 3]\n",
      "[[0.17046809 0.56689847 0.8050971 ]\n",
      " [0.27858877 0.2300477  0.71309495]\n",
      " [0.30758882 0.62882245 0.7907176 ]] : [4 5 6]\n",
      "[[0.5688009  0.59878814 0.5122006 ]\n",
      " [0.758917   0.66667914 0.9368491 ]\n",
      " [0.03850842 0.74011517 0.96218586]] : [7 8 9]\n"
     ]
    }
   ],
   "source": [
    "ds_batch = ds_joint.batch(3, drop_remainder=True)\n",
    "for item in ds_batch:\n",
    "    print(item[0].numpy(), ':', item[1].numpy())"
   ]
  },
  {
   "cell_type": "code",
   "execution_count": 55,
   "metadata": {},
   "outputs": [
    {
     "name": "stdout",
     "output_type": "stream",
     "text": [
      "[[0.22721505 0.46685362 0.18047357]\n",
      " [0.54388    0.1589073  0.7124685 ]\n",
      " [0.29731095 0.01537108 0.41788483]] : [1 2 3]\n",
      "[[0.17046809 0.56689847 0.8050971 ]\n",
      " [0.27858877 0.2300477  0.71309495]\n",
      " [0.30758882 0.62882245 0.7907176 ]] : [4 5 6]\n",
      "[[0.5688009  0.59878814 0.5122006 ]\n",
      " [0.758917   0.66667914 0.9368491 ]\n",
      " [0.03850842 0.74011517 0.96218586]] : [7 8 9]\n",
      "[[0.22721505 0.46685362 0.18047357]\n",
      " [0.54388    0.1589073  0.7124685 ]\n",
      " [0.29731095 0.01537108 0.41788483]] : [1 2 3]\n",
      "[[0.17046809 0.56689847 0.8050971 ]\n",
      " [0.27858877 0.2300477  0.71309495]\n",
      " [0.30758882 0.62882245 0.7907176 ]] : [4 5 6]\n",
      "[[0.5688009  0.59878814 0.5122006 ]\n",
      " [0.758917   0.66667914 0.9368491 ]\n",
      " [0.03850842 0.74011517 0.96218586]] : [7 8 9]\n"
     ]
    }
   ],
   "source": [
    "ds_rpt = ds_joint.batch(3, drop_remainder=True).repeat(count=2)\n",
    "for item in ds_rpt:\n",
    "    print(item[0].numpy(), ':', item[1].numpy())"
   ]
  },
  {
   "cell_type": "code",
   "execution_count": 56,
   "metadata": {},
   "outputs": [
    {
     "name": "stdout",
     "output_type": "stream",
     "text": [
      "[[0.22721505 0.46685362 0.18047357]\n",
      " [0.54388    0.1589073  0.7124685 ]\n",
      " [0.29731095 0.01537108 0.41788483]] : [1 2 3]\n",
      "[[0.17046809 0.56689847 0.8050971 ]\n",
      " [0.27858877 0.2300477  0.71309495]\n",
      " [0.30758882 0.62882245 0.7907176 ]] : [4 5 6]\n",
      "[[0.5688009  0.59878814 0.5122006 ]\n",
      " [0.758917   0.66667914 0.9368491 ]\n",
      " [0.03850842 0.74011517 0.96218586]] : [7 8 9]\n",
      "[[0.8567523  0.47222304 0.9584228 ]\n",
      " [0.22721505 0.46685362 0.18047357]\n",
      " [0.54388    0.1589073  0.7124685 ]] : [10  1  2]\n",
      "[[0.29731095 0.01537108 0.41788483]\n",
      " [0.17046809 0.56689847 0.8050971 ]\n",
      " [0.27858877 0.2300477  0.71309495]] : [3 4 5]\n",
      "[[0.30758882 0.62882245 0.7907176 ]\n",
      " [0.5688009  0.59878814 0.5122006 ]\n",
      " [0.758917   0.66667914 0.9368491 ]] : [6 7 8]\n"
     ]
    }
   ],
   "source": [
    "ds_rpt2 = ds_joint.repeat(count=2).batch(3, drop_remainder=True)\n",
    "for item in ds_rpt2:\n",
    "    print(item[0].numpy(), ':', item[1].numpy())"
   ]
  },
  {
   "cell_type": "code",
   "execution_count": 57,
   "metadata": {},
   "outputs": [
    {
     "name": "stdout",
     "output_type": "stream",
     "text": [
      "[[0.27858877 0.2300477  0.71309495]\n",
      " [0.22721505 0.46685362 0.18047357]\n",
      " [0.03850842 0.74011517 0.96218586]] : [5 1 9]\n",
      "[[0.758917   0.66667914 0.9368491 ]\n",
      " [0.29731095 0.01537108 0.41788483]\n",
      " [0.5688009  0.59878814 0.5122006 ]] : [8 3 7]\n",
      "[[0.8567523  0.47222304 0.9584228 ]\n",
      " [0.54388    0.1589073  0.7124685 ]\n",
      " [0.17046809 0.56689847 0.8050971 ]] : [10  2  4]\n",
      "[[0.30758882 0.62882245 0.7907176 ]] : [6]\n",
      "[[0.22721505 0.46685362 0.18047357]\n",
      " [0.30758882 0.62882245 0.7907176 ]\n",
      " [0.54388    0.1589073  0.7124685 ]] : [1 6 2]\n",
      "[[0.8567523  0.47222304 0.9584228 ]\n",
      " [0.5688009  0.59878814 0.5122006 ]\n",
      " [0.27858877 0.2300477  0.71309495]] : [10  7  5]\n",
      "[[0.29731095 0.01537108 0.41788483]\n",
      " [0.758917   0.66667914 0.9368491 ]\n",
      " [0.17046809 0.56689847 0.8050971 ]] : [3 8 4]\n",
      "[[0.03850842 0.74011517 0.96218586]] : [9]\n"
     ]
    }
   ],
   "source": [
    "ds_all = ds_joint.shuffle(len(X)).batch(3).repeat(2)\n",
    "for item in ds_all:\n",
    "    print(item[0].numpy(), ':', item[1].numpy())"
   ]
  },
  {
   "cell_type": "markdown",
   "metadata": {},
   "source": [
    "## 6. 선형회귀분석 (low level approach)"
   ]
  },
  {
   "cell_type": "code",
   "execution_count": 58,
   "metadata": {},
   "outputs": [],
   "source": [
    "import matplotlib.pyplot as plt"
   ]
  },
  {
   "cell_type": "code",
   "execution_count": 59,
   "metadata": {},
   "outputs": [
    {
     "data": {
      "image/png": "[encoded data removed]",
      "text/plain": [
       "<Figure size 432x288 with 1 Axes>"
      ]
     },
     "metadata": {
      "needs_background": "light"
     },
     "output_type": "display_data"
    }
   ],
   "source": [
    "X = tf.random.uniform(minval=0, maxval=1, shape=(36, ))\n",
    "Y = 0.2 * X + 0.8 + tf.random.normal(mean=0, stddev=0.15, shape=(36, ))\n",
    "\n",
    "fig, ax = plt.subplots(1,1)\n",
    "plt.rcParams['figure.figsize'] = (14,7)\n",
    "plt.rcParams['figure.facecolor'] = 'w'\n",
    "ax.plot(X, Y, 'ro', label='Original Data')\n",
    "plt.legend()\n",
    "plt.show()"
   ]
  },
  {
   "cell_type": "code",
   "execution_count": 60,
   "metadata": {},
   "outputs": [],
   "source": [
    "trainX, testX = tf.split(X, num_or_size_splits=[30,6])\n",
    "trainY, testY = tf.split(Y, num_or_size_splits=[30,6])"
   ]
  },
  {
   "cell_type": "code",
   "execution_count": 61,
   "metadata": {},
   "outputs": [],
   "source": [
    "ds_train = tf.data.Dataset.from_tensor_slices((trainX, trainY))"
   ]
  },
  {
   "cell_type": "code",
   "execution_count": 62,
   "metadata": {},
   "outputs": [],
   "source": [
    "W = tf.Variable(np.random.randn())\n",
    "b = tf.Variable(np.random.randn())"
   ]
  },
  {
   "cell_type": "code",
   "execution_count": 63,
   "metadata": {},
   "outputs": [
    {
     "name": "stdout",
     "output_type": "stream",
     "text": [
      "0.22816595 -0.46764392\n"
     ]
    }
   ],
   "source": [
    "print(W.numpy(), b.numpy())"
   ]
  },
  {
   "cell_type": "code",
   "execution_count": 64,
   "metadata": {},
   "outputs": [],
   "source": [
    "def linear_regression(x):\n",
    "    return tf.add(tf.multiply(W,x), b)\n",
    "\n",
    "def mean_square(ypred, y):\n",
    "    return tf.reduce_mean(tf.square(y - ypred))\n",
    "\n",
    "optimizer = tf.optimizers.SGD(learning_rate=0.01)"
   ]
  },
  {
   "cell_type": "code",
   "execution_count": 65,
   "metadata": {},
   "outputs": [
    {
     "data": {
      "text/plain": [
       "600"
      ]
     },
     "execution_count": 65,
     "metadata": {},
     "output_type": "execute_result"
    }
   ],
   "source": [
    "num_epochs = 100\n",
    "log_steps = 50\n",
    "batch_size = 5\n",
    "steps_per_epoch = int(np.ceil(len(ds_train)/ batch_size))\n",
    "\n",
    "L = []\n",
    "ds_train = ds_train.shuffle(buffer_size=len(ds_train)).batch(batch_size).repeat(count=num_epochs)\n",
    "len(ds_train)"
   ]
  },
  {
   "cell_type": "code",
   "execution_count": 66,
   "metadata": {},
   "outputs": [
    {
     "name": "stdout",
     "output_type": "stream",
     "text": [
      "0 1.6641483 0.23744358 -0.44189835\n",
      "50 0.18408935 0.53937805 0.27384108\n",
      "100 0.060186125 0.6113662 0.49091688\n",
      "150 0.072458945 0.61483467 0.5648066\n",
      "200 0.02058868 0.5994135 0.5905551\n",
      "250 0.017039558 0.58162963 0.60864234\n",
      "300 0.07370056 0.5613106 0.62163526\n",
      "350 0.016821293 0.54099214 0.62795824\n",
      "400 0.014402284 0.5232214 0.6394349\n",
      "450 0.010918583 0.50501066 0.6471519\n",
      "500 0.047718745 0.48879895 0.65789455\n",
      "550 0.06896001 0.4727678 0.6662418\n"
     ]
    }
   ],
   "source": [
    "for i, batch in enumerate(ds_train):\n",
    "    bX, bY = batch\n",
    "    with tf.GradientTape() as tape: #yield랑 비슷하게 메모리 관리차원에서 하는건가..?\n",
    "        pred = linear_regression(bX)\n",
    "        loss = mean_square(pred, bY)\n",
    "\n",
    "    gradients = tape.gradient(loss, [W, b])\n",
    "    optimizer.apply_gradients(zip(gradients, [W, b]))\n",
    "\n",
    "    if i % log_steps == 0 :\n",
    "        print( i, loss.numpy(), W.numpy(), b.numpy())\n",
    "        L.append(loss.numpy())"
   ]
  },
  {
   "cell_type": "code",
   "execution_count": 67,
   "metadata": {},
   "outputs": [
    {
     "data": {
      "image/png": "[encoded data removed]",
      "text/plain": [
       "<Figure size 1008x504 with 1 Axes>"
      ]
     },
     "metadata": {},
     "output_type": "display_data"
    }
   ],
   "source": [
    "fig, ax = plt.subplots(1,1)\n",
    "plt.rcParams['figure.figsize'] = (14,7)\n",
    "plt.rcParams['figure.facecolor'] = 'w'\n",
    "ax.plot(X, Y, 'ro', label='Original Data')\n",
    "ax.plot(X, np.array( W*X + b), label='Fitted Line')\n",
    "plt.legend()\n",
    "plt.show()"
   ]
  },
  {
   "cell_type": "code",
   "execution_count": 68,
   "metadata": {},
   "outputs": [
    {
     "data": {
      "image/png": "[encoded data removed]",
      "text/plain": [
       "<Figure size 1008x504 with 1 Axes>"
      ]
     },
     "metadata": {},
     "output_type": "display_data"
    }
   ],
   "source": [
    "fig, ax = plt.subplots(1,1)\n",
    "plt.rcParams['figure.figsize'] = (14,7)\n",
    "plt.rcParams['figure.facecolor'] = 'w'\n",
    "ax.plot(L, '-bo', label='Loss')\n",
    "ax.set_xlabel('iter')\n",
    "ax.set_ylabel('Train Loss')\n",
    "plt.legend()\n",
    "plt.show()"
   ]
  },
  {
   "cell_type": "code",
   "execution_count": 69,
   "metadata": {},
   "outputs": [
    {
     "data": {
      "text/plain": [
       "0.06133175"
      ]
     },
     "execution_count": 69,
     "metadata": {},
     "output_type": "execute_result"
    }
   ],
   "source": [
    "tpred = linear_regression(testX)\n",
    "test_mse = mean_square(tpred, testY)\n",
    "test_mse.numpy()"
   ]
  },
  {
   "cell_type": "markdown",
   "metadata": {},
   "source": [
    "## 7. 선형회귀분석 (tf.keras의 모델 활용한 방식)"
   ]
  },
  {
   "cell_type": "code",
   "execution_count": 70,
   "metadata": {},
   "outputs": [
    {
     "name": "stdout",
     "output_type": "stream",
     "text": [
      "Model: \"sequential\"\n",
      "_________________________________________________________________\n",
      "Layer (type)                 Output Shape              Param #   \n",
      "=================================================================\n",
      "dense (Dense)                (None, 1)                 2         \n",
      "=================================================================\n",
      "Total params: 2\n",
      "Trainable params: 2\n",
      "Non-trainable params: 0\n",
      "_________________________________________________________________\n"
     ]
    }
   ],
   "source": [
    "model = tf.keras.models.Sequential()\n",
    "model.add(tf.keras.layers.Dense(1, input_dim = 1, activation='linear'))\n",
    "model.summary()"
   ]
  },
  {
   "cell_type": "code",
   "execution_count": 71,
   "metadata": {},
   "outputs": [],
   "source": [
    "sgd = tf.keras.optimizers.SGD(learning_rate=0.01)\n",
    "model.compile(loss='mse', optimizer=sgd)"
   ]
  },
  {
   "cell_type": "code",
   "execution_count": 72,
   "metadata": {},
   "outputs": [
    {
     "name": "stdout",
     "output_type": "stream",
     "text": [
      "Epoch 1/100\n"
     ]
    },
    {
     "name": "stderr",
     "output_type": "stream",
     "text": [
      "2022-09-16 15:24:55.141038: I tensorflow/core/grappler/optimizers/custom_graph_optimizer_registry.cc:112] Plugin optimizer for device_type GPU is enabled.\n"
     ]
    },
    {
     "name": "stdout",
     "output_type": "stream",
     "text": [
      "6/6 [==============================] - 0s 2ms/step - loss: 0.1776\n",
      "Epoch 2/100\n",
      "6/6 [==============================] - 0s 2ms/step - loss: 0.1658\n",
      "Epoch 3/100\n",
      "6/6 [==============================] - 0s 2ms/step - loss: 0.1562\n",
      "Epoch 4/100\n",
      "6/6 [==============================] - 0s 2ms/step - loss: 0.1495\n",
      "Epoch 5/100\n",
      "6/6 [==============================] - 0s 2ms/step - loss: 0.1440\n",
      "Epoch 6/100\n",
      "6/6 [==============================] - 0s 2ms/step - loss: 0.1394\n",
      "Epoch 7/100\n",
      "6/6 [==============================] - 0s 2ms/step - loss: 0.1355\n",
      "Epoch 8/100\n",
      "6/6 [==============================] - 0s 2ms/step - loss: 0.1324\n",
      "Epoch 9/100\n",
      "6/6 [==============================] - 0s 2ms/step - loss: 0.1296\n",
      "Epoch 10/100\n",
      "6/6 [==============================] - 0s 2ms/step - loss: 0.1274\n",
      "Epoch 11/100\n",
      "6/6 [==============================] - 0s 2ms/step - loss: 0.1258\n",
      "Epoch 12/100\n",
      "6/6 [==============================] - 0s 2ms/step - loss: 0.1241\n",
      "Epoch 13/100\n",
      "6/6 [==============================] - 0s 2ms/step - loss: 0.1221\n",
      "Epoch 14/100\n",
      "6/6 [==============================] - 0s 2ms/step - loss: 0.1206\n",
      "Epoch 15/100\n",
      "6/6 [==============================] - 0s 2ms/step - loss: 0.1191\n",
      "Epoch 16/100\n",
      "6/6 [==============================] - 0s 2ms/step - loss: 0.1175\n",
      "Epoch 17/100\n",
      "6/6 [==============================] - 0s 2ms/step - loss: 0.1165\n",
      "Epoch 18/100\n",
      "6/6 [==============================] - 0s 2ms/step - loss: 0.1149\n",
      "Epoch 19/100\n",
      "6/6 [==============================] - 0s 2ms/step - loss: 0.1142\n",
      "Epoch 20/100\n",
      "6/6 [==============================] - 0s 3ms/step - loss: 0.1132\n",
      "Epoch 21/100\n",
      "6/6 [==============================] - 0s 2ms/step - loss: 0.1114\n",
      "Epoch 22/100\n",
      "6/6 [==============================] - 0s 2ms/step - loss: 0.1108\n",
      "Epoch 23/100\n",
      "6/6 [==============================] - 0s 2ms/step - loss: 0.1094\n",
      "Epoch 24/100\n",
      "6/6 [==============================] - 0s 2ms/step - loss: 0.1086\n",
      "Epoch 25/100\n",
      "6/6 [==============================] - 0s 3ms/step - loss: 0.1074\n",
      "Epoch 26/100\n",
      "6/6 [==============================] - 0s 2ms/step - loss: 0.1063\n",
      "Epoch 27/100\n",
      "6/6 [==============================] - 0s 2ms/step - loss: 0.1049\n",
      "Epoch 28/100\n",
      "6/6 [==============================] - 0s 2ms/step - loss: 0.1043\n",
      "Epoch 29/100\n",
      "6/6 [==============================] - 0s 2ms/step - loss: 0.1032\n",
      "Epoch 30/100\n",
      "6/6 [==============================] - 0s 2ms/step - loss: 0.1023\n",
      "Epoch 31/100\n",
      "6/6 [==============================] - 0s 3ms/step - loss: 0.1011\n",
      "Epoch 32/100\n",
      "6/6 [==============================] - 0s 2ms/step - loss: 0.0999\n",
      "Epoch 33/100\n",
      "6/6 [==============================] - 0s 2ms/step - loss: 0.0990\n",
      "Epoch 34/100\n",
      "6/6 [==============================] - 0s 2ms/step - loss: 0.0982\n",
      "Epoch 35/100\n",
      "6/6 [==============================] - 0s 2ms/step - loss: 0.0972\n",
      "Epoch 36/100\n",
      "6/6 [==============================] - 0s 2ms/step - loss: 0.0963\n",
      "Epoch 37/100\n",
      "6/6 [==============================] - 0s 3ms/step - loss: 0.0958\n",
      "Epoch 38/100\n",
      "6/6 [==============================] - 0s 2ms/step - loss: 0.0945\n",
      "Epoch 39/100\n",
      "6/6 [==============================] - 0s 3ms/step - loss: 0.0935\n",
      "Epoch 40/100\n",
      "6/6 [==============================] - 0s 3ms/step - loss: 0.0927\n",
      "Epoch 41/100\n",
      "6/6 [==============================] - 0s 2ms/step - loss: 0.0922\n",
      "Epoch 42/100\n",
      "6/6 [==============================] - 0s 3ms/step - loss: 0.0909\n",
      "Epoch 43/100\n",
      "6/6 [==============================] - 0s 2ms/step - loss: 0.0902\n",
      "Epoch 44/100\n",
      "6/6 [==============================] - 0s 2ms/step - loss: 0.0893\n",
      "Epoch 45/100\n",
      "6/6 [==============================] - 0s 2ms/step - loss: 0.0884\n",
      "Epoch 46/100\n",
      "6/6 [==============================] - 0s 2ms/step - loss: 0.0874\n",
      "Epoch 47/100\n",
      "6/6 [==============================] - 0s 2ms/step - loss: 0.0867\n",
      "Epoch 48/100\n",
      "6/6 [==============================] - 0s 2ms/step - loss: 0.0860\n",
      "Epoch 49/100\n",
      "6/6 [==============================] - 0s 2ms/step - loss: 0.0850\n",
      "Epoch 50/100\n",
      "6/6 [==============================] - 0s 2ms/step - loss: 0.0844\n",
      "Epoch 51/100\n",
      "6/6 [==============================] - 0s 2ms/step - loss: 0.0835\n",
      "Epoch 52/100\n",
      "6/6 [==============================] - 0s 2ms/step - loss: 0.0828\n",
      "Epoch 53/100\n",
      "6/6 [==============================] - 0s 3ms/step - loss: 0.0822\n",
      "Epoch 54/100\n",
      "6/6 [==============================] - 0s 3ms/step - loss: 0.0814\n",
      "Epoch 55/100\n",
      "6/6 [==============================] - 0s 3ms/step - loss: 0.0805\n",
      "Epoch 56/100\n",
      "6/6 [==============================] - 0s 2ms/step - loss: 0.0797\n",
      "Epoch 57/100\n",
      "6/6 [==============================] - 0s 4ms/step - loss: 0.0794\n",
      "Epoch 58/100\n",
      "6/6 [==============================] - 0s 3ms/step - loss: 0.0783\n",
      "Epoch 59/100\n",
      "6/6 [==============================] - 0s 3ms/step - loss: 0.0780\n",
      "Epoch 60/100\n",
      "6/6 [==============================] - 0s 3ms/step - loss: 0.0769\n",
      "Epoch 61/100\n",
      "6/6 [==============================] - 0s 3ms/step - loss: 0.0765\n",
      "Epoch 62/100\n",
      "6/6 [==============================] - 0s 2ms/step - loss: 0.0756\n",
      "Epoch 63/100\n",
      "6/6 [==============================] - 0s 2ms/step - loss: 0.0750\n",
      "Epoch 64/100\n",
      "6/6 [==============================] - 0s 2ms/step - loss: 0.0745\n",
      "Epoch 65/100\n",
      "6/6 [==============================] - 0s 2ms/step - loss: 0.0736\n",
      "Epoch 66/100\n",
      "6/6 [==============================] - 0s 3ms/step - loss: 0.0734\n",
      "Epoch 67/100\n",
      "6/6 [==============================] - 0s 2ms/step - loss: 0.0725\n",
      "Epoch 68/100\n",
      "6/6 [==============================] - 0s 2ms/step - loss: 0.0718\n",
      "Epoch 69/100\n",
      "6/6 [==============================] - 0s 2ms/step - loss: 0.0713\n",
      "Epoch 70/100\n",
      "6/6 [==============================] - 0s 2ms/step - loss: 0.0707\n",
      "Epoch 71/100\n",
      "6/6 [==============================] - 0s 2ms/step - loss: 0.0701\n",
      "Epoch 72/100\n",
      "6/6 [==============================] - 0s 2ms/step - loss: 0.0693\n",
      "Epoch 73/100\n",
      "6/6 [==============================] - 0s 2ms/step - loss: 0.0688\n",
      "Epoch 74/100\n",
      "6/6 [==============================] - 0s 2ms/step - loss: 0.0684\n",
      "Epoch 75/100\n",
      "6/6 [==============================] - 0s 2ms/step - loss: 0.0678\n",
      "Epoch 76/100\n",
      "6/6 [==============================] - 0s 2ms/step - loss: 0.0670\n",
      "Epoch 77/100\n",
      "6/6 [==============================] - 0s 2ms/step - loss: 0.0665\n",
      "Epoch 78/100\n",
      "6/6 [==============================] - 0s 2ms/step - loss: 0.0660\n",
      "Epoch 79/100\n",
      "6/6 [==============================] - 0s 2ms/step - loss: 0.0657\n",
      "Epoch 80/100\n",
      "6/6 [==============================] - 0s 2ms/step - loss: 0.0648\n",
      "Epoch 81/100\n",
      "6/6 [==============================] - 0s 2ms/step - loss: 0.0643\n",
      "Epoch 82/100\n",
      "6/6 [==============================] - 0s 2ms/step - loss: 0.0640\n",
      "Epoch 83/100\n",
      "6/6 [==============================] - 0s 2ms/step - loss: 0.0634\n",
      "Epoch 84/100\n",
      "6/6 [==============================] - 0s 2ms/step - loss: 0.0631\n",
      "Epoch 85/100\n",
      "6/6 [==============================] - 0s 3ms/step - loss: 0.0627\n",
      "Epoch 86/100\n",
      "6/6 [==============================] - 0s 3ms/step - loss: 0.0620\n",
      "Epoch 87/100\n",
      "6/6 [==============================] - 0s 3ms/step - loss: 0.0613\n",
      "Epoch 88/100\n",
      "6/6 [==============================] - 0s 3ms/step - loss: 0.0609\n",
      "Epoch 89/100\n",
      "6/6 [==============================] - 0s 3ms/step - loss: 0.0603\n",
      "Epoch 90/100\n",
      "6/6 [==============================] - 0s 2ms/step - loss: 0.0600\n",
      "Epoch 91/100\n",
      "6/6 [==============================] - 0s 2ms/step - loss: 0.0593\n",
      "Epoch 92/100\n",
      "6/6 [==============================] - 0s 2ms/step - loss: 0.0593\n",
      "Epoch 93/100\n",
      "6/6 [==============================] - 0s 3ms/step - loss: 0.0588\n",
      "Epoch 94/100\n",
      "6/6 [==============================] - 0s 3ms/step - loss: 0.0580\n",
      "Epoch 95/100\n",
      "6/6 [==============================] - 0s 3ms/step - loss: 0.0576\n",
      "Epoch 96/100\n",
      "6/6 [==============================] - 0s 3ms/step - loss: 0.0572\n",
      "Epoch 97/100\n",
      "6/6 [==============================] - 0s 3ms/step - loss: 0.0567\n",
      "Epoch 98/100\n",
      "6/6 [==============================] - 0s 3ms/step - loss: 0.0565\n",
      "Epoch 99/100\n",
      "6/6 [==============================] - 0s 3ms/step - loss: 0.0559\n",
      "Epoch 100/100\n",
      "6/6 [==============================] - 0s 4ms/step - loss: 0.0553\n"
     ]
    }
   ],
   "source": [
    "history = model.fit(trainX, trainY, epochs=100, batch_size=5, shuffle=True, verbose=1)"
   ]
  },
  {
   "cell_type": "code",
   "execution_count": 73,
   "metadata": {},
   "outputs": [
    {
     "data": {
      "text/plain": [
       "[<tf.Variable 'dense/kernel:0' shape=(1, 1) dtype=float32, numpy=array([[0.89331704]], dtype=float32)>,\n",
       " <tf.Variable 'dense/bias:0' shape=(1,) dtype=float32, numpy=array([0.46838346], dtype=float32)>]"
      ]
     },
     "execution_count": 73,
     "metadata": {},
     "output_type": "execute_result"
    }
   ],
   "source": [
    "model.weights"
   ]
  },
  {
   "cell_type": "code",
   "execution_count": 74,
   "metadata": {},
   "outputs": [
    {
     "name": "stdout",
     "output_type": "stream",
     "text": [
      "tf.Tensor(0.89331704, shape=(), dtype=float32) tf.Tensor(0.46838346, shape=(), dtype=float32)\n"
     ]
    }
   ],
   "source": [
    "W2 = model.weights[0][0][0]\n",
    "b2 = model.weights[1][0]\n",
    "print(W2, b2)"
   ]
  },
  {
   "cell_type": "code",
   "execution_count": 75,
   "metadata": {},
   "outputs": [
    {
     "data": {
      "image/png": "[encoded data removed]",
      "text/plain": [
       "<Figure size 1008x504 with 1 Axes>"
      ]
     },
     "metadata": {},
     "output_type": "display_data"
    }
   ],
   "source": [
    "fig, ax = plt.subplots(1,1)\n",
    "plt.rcParams['figure.figsize'] = (14,7)\n",
    "plt.rcParams['figure.facecolor'] = 'w'\n",
    "ax.plot(X, Y, 'ro', label='Original Data')\n",
    "ax.plot(X, np.array( W2*X + b2), label='Fitted Line')\n",
    "plt.legend()\n",
    "plt.show()"
   ]
  },
  {
   "cell_type": "code",
   "execution_count": 76,
   "metadata": {},
   "outputs": [
    {
     "name": "stderr",
     "output_type": "stream",
     "text": [
      "2022-09-16 15:24:57.337066: I tensorflow/core/grappler/optimizers/custom_graph_optimizer_registry.cc:112] Plugin optimizer for device_type GPU is enabled.\n"
     ]
    },
    {
     "data": {
      "text/plain": [
       "0.105758175"
      ]
     },
     "execution_count": 76,
     "metadata": {},
     "output_type": "execute_result"
    }
   ],
   "source": [
    "tpred2 = model.predict(testX)\n",
    "test_mse2 = mean_square(tpred2, testY)\n",
    "test_mse2.numpy()"
   ]
  },
  {
   "cell_type": "code",
   "execution_count": 77,
   "metadata": {},
   "outputs": [
    {
     "data": {
      "image/png": "[encoded data removed]",
      "text/plain": [
       "<Figure size 1008x504 with 1 Axes>"
      ]
     },
     "metadata": {},
     "output_type": "display_data"
    }
   ],
   "source": [
    "fig, ax = plt.subplots(1,1)\n",
    "plt.rcParams['figure.figsize'] = (14,7)\n",
    "plt.rcParams['figure.facecolor'] = 'w'\n",
    "ax.plot(history.history['loss'], label='Loss')\n",
    "ax.set_xlabel('iter')\n",
    "ax.set_ylabel('Train Loss')\n",
    "plt.legend()\n",
    "plt.show()"
   ]
  },
  {
   "cell_type": "code",
   "execution_count": 91,
   "metadata": {},
   "outputs": [
    {
     "ename": "AttributeError",
     "evalue": "'History' object has no attribute 'numpy'",
     "output_type": "error",
     "traceback": [
      "\u001b[0;31m---------------------------------------------------------------------------\u001b[0m",
      "\u001b[0;31mAttributeError\u001b[0m                            Traceback (most recent call last)",
      "\u001b[0;32m/var/folders/0k/zyr795gx3hl6x1nytrrntcnc0000gn/T/ipykernel_23661/3399963070.py\u001b[0m in \u001b[0;36m<module>\u001b[0;34m\u001b[0m\n\u001b[0;32m----> 1\u001b[0;31m \u001b[0mhistory\u001b[0m\u001b[0;34m.\u001b[0m\u001b[0mnumpy\u001b[0m\u001b[0;34m(\u001b[0m\u001b[0;34m)\u001b[0m\u001b[0;34m\u001b[0m\u001b[0;34m\u001b[0m\u001b[0m\n\u001b[0m",
      "\u001b[0;31mAttributeError\u001b[0m: 'History' object has no attribute 'numpy'"
     ]
    }
   ],
   "source": []
  },
  {
   "cell_type": "code",
   "execution_count": 78,
   "metadata": {},
   "outputs": [
    {
     "data": {
      "image/png": "[encoded data removed]",
      "text/plain": [
       "<Figure size 1008x504 with 1 Axes>"
      ]
     },
     "metadata": {},
     "output_type": "display_data"
    }
   ],
   "source": [
    "fig, ax = plt.subplots(1,1)\n",
    "plt.rcParams['figure.figsize'] = (14,7)\n",
    "plt.rcParams['figure.facecolor'] = 'w'\n",
    "ax.plot(X, Y, 'ro', label='Original Data')\n",
    "ax.plot(X, np.array( W*X + b), label='Fitted Line1')\n",
    "ax.plot(X, np.array( W2*X + b2), label='Fitted Line2')\n",
    "plt.legend()\n",
    "plt.show()"
   ]
  }
 ],
 "metadata": {
  "kernelspec": {
   "display_name": "Python 3.8.12 ('tensorflow')",
   "language": "python",
   "name": "python3"
  },
  "language_info": {
   "codemirror_mode": {
    "name": "ipython",
    "version": 3
   },
   "file_extension": ".py",
   "mimetype": "text/x-python",
   "name": "python",
   "nbconvert_exporter": "python",
   "pygments_lexer": "ipython3",
   "version": "3.8.12"
  },
  "orig_nbformat": 4,
  "vscode": {
   "interpreter": {
    "hash": "4bd624a0593993fe43ac4046b27b898fb2ef75c21c08f81e89e64ea0f51df676"
   }
  }
 },
 "nbformat": 4,
 "nbformat_minor": 2
}
