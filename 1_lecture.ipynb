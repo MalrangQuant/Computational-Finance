{
 "cells": [
  {
   "cell_type": "markdown",
   "metadata": {},
   "source": [
    "# Ch1_실습\n",
    "\n",
    "> 9/2, 2022"
   ]
  },
  {
   "cell_type": "markdown",
   "metadata": {},
   "source": [
    "## 1. 텐서 데이터 만들기"
   ]
  },
  {
   "cell_type": "code",
   "execution_count": 310,
   "metadata": {},
   "outputs": [],
   "source": [
    "import tensorflow as tf\n",
    "import numpy as np"
   ]
  },
  {
   "cell_type": "code",
   "execution_count": 311,
   "metadata": {},
   "outputs": [],
   "source": [
    "test = tf.constant(123)"
   ]
  },
  {
   "cell_type": "code",
   "execution_count": 312,
   "metadata": {},
   "outputs": [
    {
     "data": {
      "text/plain": [
       "<tf.Tensor: shape=(), dtype=int32, numpy=123>"
      ]
     },
     "execution_count": 312,
     "metadata": {},
     "output_type": "execute_result"
    }
   ],
   "source": [
    "test"
   ]
  },
  {
   "cell_type": "code",
   "execution_count": 313,
   "metadata": {},
   "outputs": [
    {
     "name": "stdout",
     "output_type": "stream",
     "text": [
      "tf.Tensor(123, shape=(), dtype=int32)\n"
     ]
    }
   ],
   "source": [
    "print(test)"
   ]
  },
  {
   "cell_type": "code",
   "execution_count": 314,
   "metadata": {},
   "outputs": [
    {
     "data": {
      "text/plain": [
       "123"
      ]
     },
     "execution_count": 314,
     "metadata": {},
     "output_type": "execute_result"
    }
   ],
   "source": [
    "test.numpy()"
   ]
  },
  {
   "cell_type": "code",
   "execution_count": 315,
   "metadata": {},
   "outputs": [
    {
     "data": {
      "text/plain": [
       "<tf.Tensor: shape=(3,), dtype=float32, numpy=array([1.2      , 5.       , 3.1415927], dtype=float32)>"
      ]
     },
     "execution_count": 315,
     "metadata": {},
     "output_type": "execute_result"
    }
   ],
   "source": [
    "tf.constant([1.2, 5, np.pi], dtype=tf.float32)"
   ]
  },
  {
   "cell_type": "code",
   "execution_count": 316,
   "metadata": {},
   "outputs": [
    {
     "data": {
      "text/plain": [
       "array([[1, 2, 3],\n",
       "       [4, 5, 6]])"
      ]
     },
     "execution_count": 316,
     "metadata": {},
     "output_type": "execute_result"
    }
   ],
   "source": [
    "ndarr = np.array([[1, 2, 3], [4, 5, 6]])\n",
    "ndarr"
   ]
  },
  {
   "cell_type": "code",
   "execution_count": 317,
   "metadata": {},
   "outputs": [
    {
     "data": {
      "text/plain": [
       "<tf.Tensor: shape=(2, 3), dtype=int64, numpy=\n",
       "array([[1, 2, 3],\n",
       "       [4, 5, 6]])>"
      ]
     },
     "execution_count": 317,
     "metadata": {},
     "output_type": "execute_result"
    }
   ],
   "source": [
    "tsarr = tf.convert_to_tensor(ndarr)\n",
    "tsarr"
   ]
  },
  {
   "cell_type": "markdown",
   "metadata": {},
   "source": [
    "## 2. 텐서 데이터 타입, 크기"
   ]
  },
  {
   "cell_type": "code",
   "execution_count": 318,
   "metadata": {},
   "outputs": [
    {
     "data": {
      "text/plain": [
       "TensorShape([2, 3])"
      ]
     },
     "execution_count": 318,
     "metadata": {},
     "output_type": "execute_result"
    }
   ],
   "source": [
    "tsarr.shape"
   ]
  },
  {
   "cell_type": "code",
   "execution_count": 319,
   "metadata": {},
   "outputs": [
    {
     "data": {
      "text/plain": [
       "2"
      ]
     },
     "execution_count": 319,
     "metadata": {},
     "output_type": "execute_result"
    }
   ],
   "source": [
    "tsarr.ndim"
   ]
  },
  {
   "cell_type": "code",
   "execution_count": 320,
   "metadata": {},
   "outputs": [
    {
     "data": {
      "text/plain": [
       "tf.int64"
      ]
     },
     "execution_count": 320,
     "metadata": {},
     "output_type": "execute_result"
    }
   ],
   "source": [
    "tsarr.dtype"
   ]
  },
  {
   "cell_type": "code",
   "execution_count": 321,
   "metadata": {},
   "outputs": [
    {
     "data": {
      "text/plain": [
       "<tf.Tensor: shape=(2, 3), dtype=float64, numpy=\n",
       "array([[1., 2., 3.],\n",
       "       [4., 5., 6.]])>"
      ]
     },
     "execution_count": 321,
     "metadata": {},
     "output_type": "execute_result"
    }
   ],
   "source": [
    "'''텐서를 새로운 형태로 캐스팅하는데 사용'''\n",
    "tf.cast(tsarr, dtype=tf.float64)"
   ]
  },
  {
   "cell_type": "code",
   "execution_count": 322,
   "metadata": {},
   "outputs": [
    {
     "data": {
      "text/plain": [
       "array([[0.41153228, 0.50117314, 0.52342534, 0.27009988],\n",
       "       [0.74549294, 0.7492641 , 0.9157529 , 0.25783873],\n",
       "       [0.49602485, 0.06851137, 0.05465186, 0.3022715 ]], dtype=float32)"
      ]
     },
     "execution_count": 322,
     "metadata": {},
     "output_type": "execute_result"
    }
   ],
   "source": [
    "t = tf.random.uniform(shape=(3,4))\n",
    "t.numpy()"
   ]
  },
  {
   "cell_type": "code",
   "execution_count": 323,
   "metadata": {},
   "outputs": [
    {
     "data": {
      "text/plain": [
       "array([[0.41153228, 0.74549294, 0.49602485],\n",
       "       [0.50117314, 0.7492641 , 0.06851137],\n",
       "       [0.52342534, 0.9157529 , 0.05465186],\n",
       "       [0.27009988, 0.25783873, 0.3022715 ]], dtype=float32)"
      ]
     },
     "execution_count": 323,
     "metadata": {},
     "output_type": "execute_result"
    }
   ],
   "source": [
    "t_tr = tf.transpose(t)\n",
    "t_tr.numpy()"
   ]
  },
  {
   "cell_type": "code",
   "execution_count": 324,
   "metadata": {},
   "outputs": [
    {
     "data": {
      "text/plain": [
       "array([[0.41153228, 0.50117314],\n",
       "       [0.52342534, 0.27009988],\n",
       "       [0.74549294, 0.7492641 ],\n",
       "       [0.9157529 , 0.25783873],\n",
       "       [0.49602485, 0.06851137],\n",
       "       [0.05465186, 0.3022715 ]], dtype=float32)"
      ]
     },
     "execution_count": 324,
     "metadata": {},
     "output_type": "execute_result"
    }
   ],
   "source": [
    "t_sh = tf.reshape(t, shape=(6,2))\n",
    "t_sh.numpy()"
   ]
  },
  {
   "cell_type": "markdown",
   "metadata": {},
   "source": [
    "## 3. 수학 연산의 적용"
   ]
  },
  {
   "cell_type": "code",
   "execution_count": 325,
   "metadata": {},
   "outputs": [],
   "source": [
    "a = tf.constant(10)\n",
    "b = tf.constant(20)\n",
    "c = tf.constant(30)"
   ]
  },
  {
   "cell_type": "code",
   "execution_count": 326,
   "metadata": {},
   "outputs": [
    {
     "data": {
      "text/plain": [
       "'텐서 꼬라지 : shape=(), dtype=**, numpy=() 이고 이걸 부르면 됨'"
      ]
     },
     "execution_count": 326,
     "metadata": {},
     "output_type": "execute_result"
    }
   ],
   "source": [
    "'''텐서 꼬라지 : shape=(), dtype=**, numpy=() 이고 이걸 부르면 됨'''"
   ]
  },
  {
   "cell_type": "code",
   "execution_count": 327,
   "metadata": {},
   "outputs": [
    {
     "data": {
      "text/plain": [
       "30"
      ]
     },
     "execution_count": 327,
     "metadata": {},
     "output_type": "execute_result"
    }
   ],
   "source": [
    "ad = tf.add(a, b)\n",
    "ad.numpy()"
   ]
  },
  {
   "cell_type": "code",
   "execution_count": 328,
   "metadata": {},
   "outputs": [
    {
     "data": {
      "text/plain": [
       "-10"
      ]
     },
     "execution_count": 328,
     "metadata": {},
     "output_type": "execute_result"
    }
   ],
   "source": [
    "sb = tf.subtract(a, b)\n",
    "sb.numpy()"
   ]
  },
  {
   "cell_type": "code",
   "execution_count": 329,
   "metadata": {},
   "outputs": [
    {
     "data": {
      "text/plain": [
       "200"
      ]
     },
     "execution_count": 329,
     "metadata": {},
     "output_type": "execute_result"
    }
   ],
   "source": [
    "ml = tf.multiply(a, b)\n",
    "ml.numpy()"
   ]
  },
  {
   "cell_type": "code",
   "execution_count": 330,
   "metadata": {},
   "outputs": [
    {
     "data": {
      "text/plain": [
       "0.5"
      ]
     },
     "execution_count": 330,
     "metadata": {},
     "output_type": "execute_result"
    }
   ],
   "source": [
    "dv = tf.divide(a, b)\n",
    "dv.numpy()"
   ]
  },
  {
   "cell_type": "code",
   "execution_count": 331,
   "metadata": {},
   "outputs": [
    {
     "data": {
      "text/plain": [
       "20"
      ]
     },
     "execution_count": 331,
     "metadata": {},
     "output_type": "execute_result"
    }
   ],
   "source": [
    "'''평균같은거, 특정 차원을 제거하고 평균 구함 >> 즉 스칼라 나옴'''\n",
    "tf.reduce_mean([a, b, c]).numpy()"
   ]
  },
  {
   "cell_type": "code",
   "execution_count": 332,
   "metadata": {},
   "outputs": [
    {
     "data": {
      "text/plain": [
       "60"
      ]
     },
     "execution_count": 332,
     "metadata": {},
     "output_type": "execute_result"
    }
   ],
   "source": [
    "'''특정 차원을 제거하고 합을 구함 >> 결국 스칼라 구함'''\n",
    "tf.reduce_sum([a, b, c]).numpy()"
   ]
  },
  {
   "cell_type": "code",
   "execution_count": 333,
   "metadata": {},
   "outputs": [
    {
     "data": {
      "text/plain": [
       "array([[-0.0530076 , -0.91109776],\n",
       "       [-0.39075375, -0.58819747],\n",
       "       [-0.6468663 ,  0.26752925],\n",
       "       [-0.22433567,  0.00626159],\n",
       "       [-0.6749749 , -0.50569916]], dtype=float32)"
      ]
     },
     "execution_count": 333,
     "metadata": {},
     "output_type": "execute_result"
    }
   ],
   "source": [
    "'''Uniform 분포'''\n",
    "M1 = tf.random.uniform( shape=(5,2), minval = -1.0, maxval = 1.0 )\n",
    "M1.numpy()"
   ]
  },
  {
   "cell_type": "code",
   "execution_count": 334,
   "metadata": {},
   "outputs": [
    {
     "data": {
      "text/plain": [
       "array([[-0.39749852,  1.0979848 ],\n",
       "       [ 1.7348342 , -0.10556055],\n",
       "       [ 0.9014524 ,  0.52277493],\n",
       "       [ 0.26201636,  0.1271292 ],\n",
       "       [-0.13929988, -0.5576807 ]], dtype=float32)"
      ]
     },
     "execution_count": 334,
     "metadata": {},
     "output_type": "execute_result"
    }
   ],
   "source": [
    "M2 = tf.random.normal( shape = (5,2), mean = 0.0, stddev = 1.0)\n",
    "M2.numpy()"
   ]
  },
  {
   "cell_type": "code",
   "execution_count": 335,
   "metadata": {},
   "outputs": [
    {
     "data": {
      "text/plain": [
       "array([-0.39798766, -0.34624073], dtype=float32)"
      ]
     },
     "execution_count": 335,
     "metadata": {},
     "output_type": "execute_result"
    }
   ],
   "source": [
    "tf.reduce_mean( M1, axis=0 ).numpy()"
   ]
  },
  {
   "cell_type": "code",
   "execution_count": 336,
   "metadata": {},
   "outputs": [
    {
     "data": {
      "text/plain": [
       "array([[ 2.1070443e-02, -1.0003715e+00],\n",
       "       [-6.7789298e-01,  6.2090449e-02],\n",
       "       [-5.8311921e-01,  1.3985759e-01],\n",
       "       [-5.8779616e-02,  7.9603057e-04],\n",
       "       [ 9.4023928e-02,  2.8201866e-01]], dtype=float32)"
      ]
     },
     "execution_count": 336,
     "metadata": {},
     "output_type": "execute_result"
    }
   ],
   "source": [
    "tf.multiply( M1, M2 ).numpy()"
   ]
  },
  {
   "cell_type": "code",
   "execution_count": 337,
   "metadata": {},
   "outputs": [
    {
     "data": {
      "text/plain": [
       "<tf.Tensor: shape=(5, 5), dtype=float32, numpy=\n",
       "array([[-0.97930104,  0.00421658, -0.5240829 , -0.129716  ,  0.5154856 ],\n",
       "       [-0.49050784, -0.6158025 , -0.6597408 , -0.17716095,  0.38245833],\n",
       "       [ 0.55087143, -1.1504463 , -0.44326162, -0.13547878, -0.05908751],\n",
       "       [ 0.09604822, -0.38984618, -0.19895454, -0.05798358,  0.02775797],\n",
       "       [-0.28694847, -1.1175877 , -0.8728246 , -0.2411436 ,  0.3760426 ]],\n",
       "      dtype=float32)>"
      ]
     },
     "execution_count": 337,
     "metadata": {},
     "output_type": "execute_result"
    }
   ],
   "source": [
    "tf.matmul( M1, tf.transpose(M2))"
   ]
  },
  {
   "cell_type": "code",
   "execution_count": 338,
   "metadata": {},
   "outputs": [
    {
     "data": {
      "text/plain": [
       "<tf.Tensor: shape=(2, 2), dtype=float32, numpy=\n",
       "array([[-1.2046975 , -0.00721794],\n",
       "       [-0.34501573, -0.5156087 ]], dtype=float32)>"
      ]
     },
     "execution_count": 338,
     "metadata": {},
     "output_type": "execute_result"
    }
   ],
   "source": [
    "tf.matmul(tf.transpose(M1), M2)"
   ]
  },
  {
   "cell_type": "code",
   "execution_count": 339,
   "metadata": {},
   "outputs": [
    {
     "data": {
      "text/plain": [
       "<tf.Tensor: shape=(2, 2), dtype=float32, numpy=\n",
       "array([[-1.2046975 , -0.00721794],\n",
       "       [-0.34501573, -0.5156087 ]], dtype=float32)>"
      ]
     },
     "execution_count": 339,
     "metadata": {},
     "output_type": "execute_result"
    }
   ],
   "source": [
    "tf.transpose(M1) @ M2"
   ]
  },
  {
   "cell_type": "code",
   "execution_count": 340,
   "metadata": {},
   "outputs": [
    {
     "data": {
      "text/plain": [
       "6.5373606e-26"
      ]
     },
     "execution_count": 340,
     "metadata": {},
     "output_type": "execute_result"
    }
   ],
   "source": [
    "np.linalg.det(M1 @ tf.transpose(M2))"
   ]
  },
  {
   "cell_type": "code",
   "execution_count": 341,
   "metadata": {},
   "outputs": [
    {
     "data": {
      "text/plain": [
       "array([[-0.8334252 ,  0.01166701],\n",
       "       [ 0.5576803 , -1.947262  ]], dtype=float32)"
      ]
     },
     "execution_count": 341,
     "metadata": {},
     "output_type": "execute_result"
    }
   ],
   "source": [
    "np.linalg.inv(tf.transpose(M1) @ M2)"
   ]
  },
  {
   "cell_type": "code",
   "execution_count": 342,
   "metadata": {},
   "outputs": [
    {
     "data": {
      "text/plain": [
       "(array([-1.2082926 , -0.51201355], dtype=float32),\n",
       " array([[-0.8951117 ,  0.01041968],\n",
       "        [-0.44584203, -0.9999457 ]], dtype=float32))"
      ]
     },
     "execution_count": 342,
     "metadata": {},
     "output_type": "execute_result"
    }
   ],
   "source": [
    "np.linalg.eig(tf.transpose(M1) @ M2)"
   ]
  },
  {
   "cell_type": "code",
   "execution_count": 343,
   "metadata": {},
   "outputs": [
    {
     "data": {
      "text/plain": [
       "array([0.9126385 , 0.706162  , 0.7000057 , 0.22442305, 0.8433995 ],\n",
       "      dtype=float32)"
      ]
     },
     "execution_count": 343,
     "metadata": {},
     "output_type": "execute_result"
    }
   ],
   "source": [
    "tf.norm(M1, ord=2, axis=1).numpy()"
   ]
  },
  {
   "cell_type": "markdown",
   "metadata": {},
   "source": [
    "## 4. 텐서 데이터의 분할 및 통합"
   ]
  },
  {
   "cell_type": "code",
   "execution_count": 344,
   "metadata": {},
   "outputs": [
    {
     "data": {
      "text/plain": [
       "array([0.80374837, 0.27922153, 0.16009772, 0.9942609 , 0.36575496,\n",
       "       0.3393408 ], dtype=float32)"
      ]
     },
     "execution_count": 344,
     "metadata": {},
     "output_type": "execute_result"
    }
   ],
   "source": [
    "t = tf.random.uniform((6,))\n",
    "t.numpy()"
   ]
  },
  {
   "cell_type": "code",
   "execution_count": 345,
   "metadata": {},
   "outputs": [
    {
     "data": {
      "text/plain": [
       "[array([0.80374837, 0.27922153], dtype=float32),\n",
       " array([0.16009772, 0.9942609 ], dtype=float32),\n",
       " array([0.36575496, 0.3393408 ], dtype=float32)]"
      ]
     },
     "execution_count": 345,
     "metadata": {},
     "output_type": "execute_result"
    }
   ],
   "source": [
    "t_spl = tf.split(t, num_or_size_splits=3)\n",
    "[item.numpy() for item in t_spl]"
   ]
  },
  {
   "cell_type": "code",
   "execution_count": 346,
   "metadata": {},
   "outputs": [
    {
     "data": {
      "text/plain": [
       "array([[0.566893  , 0.68220675, 0.0989176 ],\n",
       "       [0.20388055, 0.2299825 , 0.20048428],\n",
       "       [0.11152816, 0.8663579 , 0.9049766 ],\n",
       "       [0.63022065, 0.35093307, 0.17980075],\n",
       "       [0.44694197, 0.5682317 , 0.66737485],\n",
       "       [0.37641656, 0.2909832 , 0.75896597]], dtype=float32)"
      ]
     },
     "execution_count": 346,
     "metadata": {},
     "output_type": "execute_result"
    }
   ],
   "source": [
    "t2 = tf.random.uniform((6,3))\n",
    "t2.numpy()"
   ]
  },
  {
   "cell_type": "code",
   "execution_count": 347,
   "metadata": {},
   "outputs": [
    {
     "data": {
      "text/plain": [
       "[array([[0.566893  , 0.68220675, 0.0989176 ],\n",
       "        [0.20388055, 0.2299825 , 0.20048428],\n",
       "        [0.11152816, 0.8663579 , 0.9049766 ],\n",
       "        [0.63022065, 0.35093307, 0.17980075]], dtype=float32),\n",
       " array([[0.44694197, 0.5682317 , 0.66737485],\n",
       "        [0.37641656, 0.2909832 , 0.75896597]], dtype=float32)]"
      ]
     },
     "execution_count": 347,
     "metadata": {},
     "output_type": "execute_result"
    }
   ],
   "source": [
    "t_spl2 = tf.split(t2, num_or_size_splits=[4,2])\n",
    "[item.numpy() for item in t_spl2]"
   ]
  },
  {
   "cell_type": "code",
   "execution_count": 348,
   "metadata": {},
   "outputs": [
    {
     "data": {
      "text/plain": [
       "[array([[0.566893  , 0.68220675, 0.0989176 ],\n",
       "        [0.20388055, 0.2299825 , 0.20048428],\n",
       "        [0.11152816, 0.8663579 , 0.9049766 ],\n",
       "        [0.63022065, 0.35093307, 0.17980075]], dtype=float32),\n",
       " array([[0.44694197, 0.5682317 , 0.66737485],\n",
       "        [0.37641656, 0.2909832 , 0.75896597]], dtype=float32)]"
      ]
     },
     "execution_count": 348,
     "metadata": {},
     "output_type": "execute_result"
    }
   ],
   "source": [
    "t_spl3 = tf.split(t2,num_or_size_splits=[4,2], axis=0)\n",
    "[item.numpy() for item in t_spl3]"
   ]
  },
  {
   "cell_type": "code",
   "execution_count": 349,
   "metadata": {},
   "outputs": [
    {
     "data": {
      "text/plain": [
       "array([[0.566893  , 0.68220675, 0.0989176 , 0.80374837],\n",
       "       [0.20388055, 0.2299825 , 0.20048428, 0.27922153],\n",
       "       [0.11152816, 0.8663579 , 0.9049766 , 0.16009772],\n",
       "       [0.63022065, 0.35093307, 0.17980075, 0.9942609 ],\n",
       "       [0.44694197, 0.5682317 , 0.66737485, 0.36575496],\n",
       "       [0.37641656, 0.2909832 , 0.75896597, 0.3393408 ]], dtype=float32)"
      ]
     },
     "execution_count": 349,
     "metadata": {},
     "output_type": "execute_result"
    }
   ],
   "source": [
    "t_conc = tf.concat([t2, tf.reshape(t, (6,1))], axis=1)\n",
    "t_conc.numpy()"
   ]
  },
  {
   "cell_type": "code",
   "execution_count": 350,
   "metadata": {},
   "outputs": [
    {
     "data": {
      "text/plain": [
       "<tf.Tensor: shape=(7, 4), dtype=float32, numpy=\n",
       "array([[0.566893  , 0.68220675, 0.0989176 , 0.80374837],\n",
       "       [0.20388055, 0.2299825 , 0.20048428, 0.27922153],\n",
       "       [0.11152816, 0.8663579 , 0.9049766 , 0.16009772],\n",
       "       [0.63022065, 0.35093307, 0.17980075, 0.9942609 ],\n",
       "       [0.44694197, 0.5682317 , 0.66737485, 0.36575496],\n",
       "       [0.37641656, 0.2909832 , 0.75896597, 0.3393408 ],\n",
       "       [0.15108097, 0.650411  , 0.5556065 , 0.5242239 ]], dtype=float32)>"
      ]
     },
     "execution_count": 350,
     "metadata": {},
     "output_type": "execute_result"
    }
   ],
   "source": [
    "tf.concat([t_conc, tf.random.uniform((1,4))], axis=0)"
   ]
  },
  {
   "cell_type": "markdown",
   "metadata": {},
   "source": [
    "## 5. tf.data를 활용한 데이터 전처리"
   ]
  },
  {
   "cell_type": "code",
   "execution_count": 351,
   "metadata": {},
   "outputs": [
    {
     "data": {
      "text/plain": [
       "[1.1, 2.2, 3.3, 4.4, 5.5, 6.6, 7.7]"
      ]
     },
     "execution_count": 351,
     "metadata": {},
     "output_type": "execute_result"
    }
   ],
   "source": [
    "arr1 = [1.1, 2.2, 3.3, 4.4, 5.5, 6.6, 7.7]\n",
    "arr1"
   ]
  },
  {
   "cell_type": "code",
   "execution_count": 352,
   "metadata": {},
   "outputs": [
    {
     "name": "stdout",
     "output_type": "stream",
     "text": [
      "<TensorSliceDataset shapes: (), types: tf.float32>\n"
     ]
    }
   ],
   "source": [
    "ds1 = tf.data.Dataset.from_tensor_slices(arr1)\n",
    "print(ds1)"
   ]
  },
  {
   "cell_type": "code",
   "execution_count": 353,
   "metadata": {},
   "outputs": [
    {
     "name": "stdout",
     "output_type": "stream",
     "text": [
      "tf.Tensor(1.1, shape=(), dtype=float32)\n",
      "tf.Tensor(2.2, shape=(), dtype=float32)\n",
      "tf.Tensor(3.3, shape=(), dtype=float32)\n",
      "tf.Tensor(4.4, shape=(), dtype=float32)\n",
      "tf.Tensor(5.5, shape=(), dtype=float32)\n",
      "tf.Tensor(6.6, shape=(), dtype=float32)\n",
      "tf.Tensor(7.7, shape=(), dtype=float32)\n"
     ]
    }
   ],
   "source": [
    "for item in ds1:\n",
    "    print(item)"
   ]
  },
  {
   "cell_type": "code",
   "execution_count": 354,
   "metadata": {},
   "outputs": [
    {
     "name": "stdout",
     "output_type": "stream",
     "text": [
      "tf.Tensor([1.1 2.2 3.3], shape=(3,), dtype=float32)\n",
      "tf.Tensor([4.4 5.5 6.6], shape=(3,), dtype=float32)\n",
      "tf.Tensor([7.7], shape=(1,), dtype=float32)\n"
     ]
    }
   ],
   "source": [
    "ds1_batch = ds1.batch(3)\n",
    "for item in ds1_batch:\n",
    "    print(item)"
   ]
  },
  {
   "cell_type": "code",
   "execution_count": 355,
   "metadata": {},
   "outputs": [],
   "source": [
    "tf.random.set_seed(1)\n",
    "X = tf.random.uniform(shape=(10,3), dtype=tf.float32)\n",
    "Y = tf.range(1, 11)"
   ]
  },
  {
   "cell_type": "code",
   "execution_count": 356,
   "metadata": {},
   "outputs": [
    {
     "data": {
      "text/plain": [
       "array([[0.22721505, 0.46685362, 0.18047357],\n",
       "       [0.54388   , 0.1589073 , 0.7124685 ],\n",
       "       [0.29731095, 0.01537108, 0.41788483],\n",
       "       [0.17046809, 0.56689847, 0.8050971 ],\n",
       "       [0.27858877, 0.2300477 , 0.71309495],\n",
       "       [0.30758882, 0.62882245, 0.7907176 ],\n",
       "       [0.5688009 , 0.59878814, 0.5122006 ],\n",
       "       [0.758917  , 0.66667914, 0.9368491 ],\n",
       "       [0.03850842, 0.74011517, 0.96218586],\n",
       "       [0.8567523 , 0.47222304, 0.9584228 ]], dtype=float32)"
      ]
     },
     "execution_count": 356,
     "metadata": {},
     "output_type": "execute_result"
    }
   ],
   "source": [
    "X.numpy()"
   ]
  },
  {
   "cell_type": "code",
   "execution_count": 357,
   "metadata": {},
   "outputs": [
    {
     "data": {
      "text/plain": [
       "array([ 1,  2,  3,  4,  5,  6,  7,  8,  9, 10], dtype=int32)"
      ]
     },
     "execution_count": 357,
     "metadata": {},
     "output_type": "execute_result"
    }
   ],
   "source": [
    "Y.numpy()"
   ]
  },
  {
   "cell_type": "code",
   "execution_count": 358,
   "metadata": {},
   "outputs": [],
   "source": [
    "ds_X = tf.data.Dataset.from_tensor_slices(X)\n",
    "ds_Y = tf.data.Dataset.from_tensor_slices(Y)\n",
    "ds_joint = tf.data.Dataset.zip((ds_X, ds_Y))"
   ]
  },
  {
   "cell_type": "code",
   "execution_count": 359,
   "metadata": {},
   "outputs": [
    {
     "name": "stdout",
     "output_type": "stream",
     "text": [
      "[0.22721505 0.46685362 0.18047357] : 1\n",
      "[0.54388   0.1589073 0.7124685] : 2\n",
      "[0.29731095 0.01537108 0.41788483] : 3\n",
      "[0.17046809 0.56689847 0.8050971 ] : 4\n",
      "[0.27858877 0.2300477  0.71309495] : 5\n",
      "[0.30758882 0.62882245 0.7907176 ] : 6\n",
      "[0.5688009  0.59878814 0.5122006 ] : 7\n",
      "[0.758917   0.66667914 0.9368491 ] : 8\n",
      "[0.03850842 0.74011517 0.96218586] : 9\n",
      "[0.8567523  0.47222304 0.9584228 ] : 10\n"
     ]
    }
   ],
   "source": [
    "for item in ds_joint:\n",
    "    print(item[0].numpy(), ':', item[1].numpy())"
   ]
  },
  {
   "cell_type": "code",
   "execution_count": 360,
   "metadata": {},
   "outputs": [],
   "source": [
    "ds_trans = ds_joint.map(lambda x, y: (x*2-1, y/10))"
   ]
  },
  {
   "cell_type": "code",
   "execution_count": 361,
   "metadata": {},
   "outputs": [
    {
     "name": "stdout",
     "output_type": "stream",
     "text": [
      "[-0.5455699  -0.06629276 -0.63905287] : 0.1\n",
      "[ 0.08775997 -0.6821854   0.424937  ] : 0.2\n",
      "[-0.4053781  -0.96925783 -0.16423035] : 0.3\n",
      "[-0.6590638   0.13379693  0.6101942 ] : 0.4\n",
      "[-0.44282246 -0.5399046   0.4261899 ] : 0.5\n",
      "[-0.38482237  0.2576449   0.5814352 ] : 0.6\n",
      "[0.13760185 0.19757628 0.02440119] : 0.7\n",
      "[0.51783395 0.3333583  0.87369823] : 0.8\n",
      "[-0.92298317  0.48023033  0.9243717 ] : 0.9\n",
      "[ 0.71350455 -0.05555391  0.91684556] : 1.0\n"
     ]
    }
   ],
   "source": [
    "for item in ds_trans:\n",
    "    print(item[0].numpy(), ':', item[1].numpy())"
   ]
  },
  {
   "cell_type": "code",
   "execution_count": 362,
   "metadata": {},
   "outputs": [
    {
     "name": "stdout",
     "output_type": "stream",
     "text": [
      "[0.17046809 0.56689847 0.8050971 ] : 4\n",
      "[0.03850842 0.74011517 0.96218586] : 9\n",
      "[0.22721505 0.46685362 0.18047357] : 1\n",
      "[0.8567523  0.47222304 0.9584228 ] : 10\n",
      "[0.54388   0.1589073 0.7124685] : 2\n",
      "[0.5688009  0.59878814 0.5122006 ] : 7\n",
      "[0.758917   0.66667914 0.9368491 ] : 8\n",
      "[0.30758882 0.62882245 0.7907176 ] : 6\n",
      "[0.29731095 0.01537108 0.41788483] : 3\n",
      "[0.27858877 0.2300477  0.71309495] : 5\n"
     ]
    }
   ],
   "source": [
    "ds_shfl = ds_joint.shuffle(buffer_size = len(X))\n",
    "for item in ds_shfl:\n",
    "    print(item[0].numpy(), ':', item[1].numpy())"
   ]
  },
  {
   "cell_type": "code",
   "execution_count": 363,
   "metadata": {},
   "outputs": [
    {
     "name": "stdout",
     "output_type": "stream",
     "text": [
      "[[0.22721505 0.46685362 0.18047357]\n",
      " [0.54388    0.1589073  0.7124685 ]\n",
      " [0.29731095 0.01537108 0.41788483]] : [1 2 3]\n",
      "[[0.17046809 0.56689847 0.8050971 ]\n",
      " [0.27858877 0.2300477  0.71309495]\n",
      " [0.30758882 0.62882245 0.7907176 ]] : [4 5 6]\n",
      "[[0.5688009  0.59878814 0.5122006 ]\n",
      " [0.758917   0.66667914 0.9368491 ]\n",
      " [0.03850842 0.74011517 0.96218586]] : [7 8 9]\n"
     ]
    }
   ],
   "source": [
    "ds_batch = ds_joint.batch(3, drop_remainder=True)\n",
    "for item in ds_batch:\n",
    "    print(item[0].numpy(), ':', item[1].numpy())"
   ]
  },
  {
   "cell_type": "code",
   "execution_count": 364,
   "metadata": {},
   "outputs": [
    {
     "name": "stdout",
     "output_type": "stream",
     "text": [
      "[[0.22721505 0.46685362 0.18047357]\n",
      " [0.54388    0.1589073  0.7124685 ]\n",
      " [0.29731095 0.01537108 0.41788483]] : [1 2 3]\n",
      "[[0.17046809 0.56689847 0.8050971 ]\n",
      " [0.27858877 0.2300477  0.71309495]\n",
      " [0.30758882 0.62882245 0.7907176 ]] : [4 5 6]\n",
      "[[0.5688009  0.59878814 0.5122006 ]\n",
      " [0.758917   0.66667914 0.9368491 ]\n",
      " [0.03850842 0.74011517 0.96218586]] : [7 8 9]\n",
      "[[0.22721505 0.46685362 0.18047357]\n",
      " [0.54388    0.1589073  0.7124685 ]\n",
      " [0.29731095 0.01537108 0.41788483]] : [1 2 3]\n",
      "[[0.17046809 0.56689847 0.8050971 ]\n",
      " [0.27858877 0.2300477  0.71309495]\n",
      " [0.30758882 0.62882245 0.7907176 ]] : [4 5 6]\n",
      "[[0.5688009  0.59878814 0.5122006 ]\n",
      " [0.758917   0.66667914 0.9368491 ]\n",
      " [0.03850842 0.74011517 0.96218586]] : [7 8 9]\n"
     ]
    }
   ],
   "source": [
    "ds_rpt = ds_joint.batch(3, drop_remainder=True).repeat(count=2)\n",
    "for item in ds_rpt:\n",
    "    print(item[0].numpy(), ':', item[1].numpy())"
   ]
  },
  {
   "cell_type": "code",
   "execution_count": 365,
   "metadata": {},
   "outputs": [
    {
     "name": "stdout",
     "output_type": "stream",
     "text": [
      "[[0.22721505 0.46685362 0.18047357]\n",
      " [0.54388    0.1589073  0.7124685 ]\n",
      " [0.29731095 0.01537108 0.41788483]] : [1 2 3]\n",
      "[[0.17046809 0.56689847 0.8050971 ]\n",
      " [0.27858877 0.2300477  0.71309495]\n",
      " [0.30758882 0.62882245 0.7907176 ]] : [4 5 6]\n",
      "[[0.5688009  0.59878814 0.5122006 ]\n",
      " [0.758917   0.66667914 0.9368491 ]\n",
      " [0.03850842 0.74011517 0.96218586]] : [7 8 9]\n",
      "[[0.8567523  0.47222304 0.9584228 ]\n",
      " [0.22721505 0.46685362 0.18047357]\n",
      " [0.54388    0.1589073  0.7124685 ]] : [10  1  2]\n",
      "[[0.29731095 0.01537108 0.41788483]\n",
      " [0.17046809 0.56689847 0.8050971 ]\n",
      " [0.27858877 0.2300477  0.71309495]] : [3 4 5]\n",
      "[[0.30758882 0.62882245 0.7907176 ]\n",
      " [0.5688009  0.59878814 0.5122006 ]\n",
      " [0.758917   0.66667914 0.9368491 ]] : [6 7 8]\n"
     ]
    }
   ],
   "source": [
    "ds_rpt2 = ds_joint.repeat(count=2).batch(3, drop_remainder=True)\n",
    "for item in ds_rpt2:\n",
    "    print(item[0].numpy(), ':', item[1].numpy())"
   ]
  },
  {
   "cell_type": "code",
   "execution_count": 366,
   "metadata": {},
   "outputs": [
    {
     "name": "stdout",
     "output_type": "stream",
     "text": [
      "[[0.27858877 0.2300477  0.71309495]\n",
      " [0.22721505 0.46685362 0.18047357]\n",
      " [0.03850842 0.74011517 0.96218586]] : [5 1 9]\n",
      "[[0.758917   0.66667914 0.9368491 ]\n",
      " [0.29731095 0.01537108 0.41788483]\n",
      " [0.5688009  0.59878814 0.5122006 ]] : [8 3 7]\n",
      "[[0.8567523  0.47222304 0.9584228 ]\n",
      " [0.54388    0.1589073  0.7124685 ]\n",
      " [0.17046809 0.56689847 0.8050971 ]] : [10  2  4]\n",
      "[[0.30758882 0.62882245 0.7907176 ]] : [6]\n",
      "[[0.22721505 0.46685362 0.18047357]\n",
      " [0.30758882 0.62882245 0.7907176 ]\n",
      " [0.54388    0.1589073  0.7124685 ]] : [1 6 2]\n",
      "[[0.8567523  0.47222304 0.9584228 ]\n",
      " [0.5688009  0.59878814 0.5122006 ]\n",
      " [0.27858877 0.2300477  0.71309495]] : [10  7  5]\n",
      "[[0.29731095 0.01537108 0.41788483]\n",
      " [0.758917   0.66667914 0.9368491 ]\n",
      " [0.17046809 0.56689847 0.8050971 ]] : [3 8 4]\n",
      "[[0.03850842 0.74011517 0.96218586]] : [9]\n"
     ]
    }
   ],
   "source": [
    "ds_all = ds_joint.shuffle(len(X)).batch(3).repeat(2)\n",
    "for item in ds_all:\n",
    "    print(item[0].numpy(), ':', item[1].numpy())"
   ]
  },
  {
   "cell_type": "markdown",
   "metadata": {},
   "source": [
    "## 6. 선형회귀분석 (low level approach)"
   ]
  },
  {
   "cell_type": "code",
   "execution_count": 367,
   "metadata": {},
   "outputs": [],
   "source": [
    "import matplotlib.pyplot as plt"
   ]
  },
  {
   "cell_type": "code",
   "execution_count": 368,
   "metadata": {},
   "outputs": [
    {
     "data": {
      "image/png": "[encoded data removed]",
      "text/plain": [
       "<Figure size 1008x504 with 1 Axes>"
      ]
     },
     "metadata": {},
     "output_type": "display_data"
    }
   ],
   "source": [
    "X = tf.random.uniform(minval=0, maxval=1, shape=(36, ))\n",
    "Y = 0.2 * X + 0.8 + tf.random.normal(mean=0, stddev=0.15, shape=(36, ))\n",
    "\n",
    "fig, ax = plt.subplots(1,1)\n",
    "plt.rcParams['figure.figsize'] = (14,7)\n",
    "plt.rcParams['figure.facecolor'] = 'w'\n",
    "ax.plot(X, Y, 'ro', label='Original Data')\n",
    "plt.legend()\n",
    "plt.show()"
   ]
  },
  {
   "cell_type": "code",
   "execution_count": 369,
   "metadata": {},
   "outputs": [],
   "source": [
    "trainX, testX = tf.split(X, num_or_size_splits=[30,6])\n",
    "trainY, testY = tf.split(Y, num_or_size_splits=[30,6])"
   ]
  },
  {
   "cell_type": "code",
   "execution_count": 370,
   "metadata": {},
   "outputs": [],
   "source": [
    "ds_train = tf.data.Dataset.from_tensor_slices((trainX, trainY))"
   ]
  },
  {
   "cell_type": "code",
   "execution_count": 371,
   "metadata": {},
   "outputs": [],
   "source": [
    "W = tf.Variable(np.random.randn())\n",
    "b = tf.Variable(np.random.randn())"
   ]
  },
  {
   "cell_type": "code",
   "execution_count": 372,
   "metadata": {},
   "outputs": [
    {
     "name": "stdout",
     "output_type": "stream",
     "text": [
      "2.641228 2.158583\n"
     ]
    }
   ],
   "source": [
    "print(W.numpy(), b.numpy())"
   ]
  },
  {
   "cell_type": "code",
   "execution_count": 373,
   "metadata": {},
   "outputs": [],
   "source": [
    "def linear_regression(x):\n",
    "    return tf.add(tf.multiply(W,x), b)\n",
    "\n",
    "def mean_square(ypred, y):\n",
    "    return tf.reduce_mean(tf.square(y - ypred))\n",
    "\n",
    "optimizer = tf.optimizers.SGD(learning_rate=0.01)"
   ]
  },
  {
   "cell_type": "code",
   "execution_count": 374,
   "metadata": {},
   "outputs": [
    {
     "data": {
      "text/plain": [
       "600"
      ]
     },
     "execution_count": 374,
     "metadata": {},
     "output_type": "execute_result"
    }
   ],
   "source": [
    "num_epochs = 100\n",
    "log_steps = 50\n",
    "batch_size = 5\n",
    "steps_per_epoch = int(np.ceil(len(ds_train)/ batch_size))\n",
    "\n",
    "L = []\n",
    "ds_train = ds_train.shuffle(buffer_size=len(ds_train)).batch(batch_size).repeat(count=num_epochs)\n",
    "len(ds_train)"
   ]
  },
  {
   "cell_type": "code",
   "execution_count": 375,
   "metadata": {},
   "outputs": [
    {
     "name": "stdout",
     "output_type": "stream",
     "text": [
      "0 5.1643558 2.62321 2.1142125\n",
      "50 0.58780366 1.8826982 0.7327128\n",
      "100 0.1618107 1.6126673 0.34253454\n",
      "150 0.21277893 1.4838603 0.2514952\n",
      "200 0.07837851 1.4001732 0.24102134\n",
      "250 0.074794896 1.3354568 0.26280308\n",
      "300 0.13836633 1.2763251 0.29245827\n",
      "350 0.057632755 1.2183731 0.3122267\n",
      "400 0.05613507 1.1651007 0.3377776\n",
      "450 0.033058245 1.114671 0.36183205\n",
      "500 0.055788636 1.0699166 0.39195237\n",
      "550 0.13462114 1.0220901 0.40985948\n"
     ]
    }
   ],
   "source": [
    "for i, batch in enumerate(ds_train):\n",
    "    bX, bY = batch\n",
    "    with tf.GradientTape() as tape: #yield랑 비슷하게 메모리 관리차원에서 하는건가..?\n",
    "        pred = linear_regression(bX)\n",
    "        loss = mean_square(pred, bY)\n",
    "\n",
    "    gradients = tape.gradient(loss, [W, b])\n",
    "    optimizer.apply_gradients(zip(gradients, [W, b]))\n",
    "\n",
    "    if i % log_steps == 0 :\n",
    "        print( i, loss.numpy(), W.numpy(), b.numpy())\n",
    "        L.append(loss.numpy())"
   ]
  },
  {
   "cell_type": "code",
   "execution_count": 376,
   "metadata": {},
   "outputs": [
    {
     "data": {
      "image/png": "[encoded data removed]",
      "text/plain": [
       "<Figure size 1008x504 with 1 Axes>"
      ]
     },
     "metadata": {},
     "output_type": "display_data"
    }
   ],
   "source": [
    "fig, ax = plt.subplots(1,1)\n",
    "plt.rcParams['figure.figsize'] = (14,7)\n",
    "plt.rcParams['figure.facecolor'] = 'w'\n",
    "ax.plot(X, Y, 'ro', label='Original Data')\n",
    "ax.plot(X, np.array( W*X + b), label='Fitted Line')\n",
    "plt.legend()\n",
    "plt.show()"
   ]
  },
  {
   "cell_type": "code",
   "execution_count": 377,
   "metadata": {},
   "outputs": [
    {
     "data": {
      "image/png": "[encoded data removed]",
      "text/plain": [
       "<Figure size 1008x504 with 1 Axes>"
      ]
     },
     "metadata": {},
     "output_type": "display_data"
    }
   ],
   "source": [
    "fig, ax = plt.subplots(1,1)\n",
    "plt.rcParams['figure.figsize'] = (14,7)\n",
    "plt.rcParams['figure.facecolor'] = 'w'\n",
    "ax.plot(L, '-bo', label='Loss')\n",
    "ax.set_xlabel('iter')\n",
    "ax.set_ylabel('Train Loss')\n",
    "plt.legend()\n",
    "plt.show()"
   ]
  },
  {
   "cell_type": "code",
   "execution_count": 378,
   "metadata": {},
   "outputs": [
    {
     "data": {
      "text/plain": [
       "0.12140104"
      ]
     },
     "execution_count": 378,
     "metadata": {},
     "output_type": "execute_result"
    }
   ],
   "source": [
    "tpred = linear_regression(testX)\n",
    "test_mse = mean_square(tpred, testY)\n",
    "test_mse.numpy()"
   ]
  },
  {
   "cell_type": "markdown",
   "metadata": {},
   "source": [
    "## 7. 선형회귀분석 (tf.keras의 모델 활용한 방식)"
   ]
  },
  {
   "cell_type": "code",
   "execution_count": 379,
   "metadata": {},
   "outputs": [
    {
     "name": "stdout",
     "output_type": "stream",
     "text": [
      "Model: \"sequential_2\"\n",
      "_________________________________________________________________\n",
      "Layer (type)                 Output Shape              Param #   \n",
      "=================================================================\n",
      "dense_2 (Dense)              (None, 1)                 2         \n",
      "=================================================================\n",
      "Total params: 2\n",
      "Trainable params: 2\n",
      "Non-trainable params: 0\n",
      "_________________________________________________________________\n"
     ]
    }
   ],
   "source": [
    "model = tf.keras.models.Sequential()\n",
    "model.add(tf.keras.layers.Dense(1, input_dim = 1, activation='linear'))\n",
    "model.summary()"
   ]
  },
  {
   "cell_type": "code",
   "execution_count": 380,
   "metadata": {},
   "outputs": [],
   "source": [
    "sgd = tf.keras.optimizers.SGD(learning_rate=0.01)\n",
    "model.compile(loss='mse', optimizer=sgd)"
   ]
  },
  {
   "cell_type": "code",
   "execution_count": 381,
   "metadata": {},
   "outputs": [
    {
     "name": "stdout",
     "output_type": "stream",
     "text": [
      "Epoch 1/100\n",
      "6/6 [==============================] - 0s 2ms/step - loss: 0.1776\n",
      "Epoch 2/100\n",
      "6/6 [==============================] - 0s 2ms/step - loss: 0.1658\n",
      "Epoch 3/100\n",
      "6/6 [==============================] - 0s 2ms/step - loss: 0.1562\n",
      "Epoch 4/100\n",
      "6/6 [==============================] - 0s 2ms/step - loss: 0.1495\n",
      "Epoch 5/100\n",
      "6/6 [==============================] - 0s 2ms/step - loss: 0.1440\n",
      "Epoch 6/100\n",
      "6/6 [==============================] - 0s 2ms/step - loss: 0.1394\n",
      "Epoch 7/100\n",
      "6/6 [==============================] - 0s 3ms/step - loss: 0.1355\n",
      "Epoch 8/100\n",
      "6/6 [==============================] - 0s 2ms/step - loss: 0.1324\n",
      "Epoch 9/100\n",
      "6/6 [==============================] - 0s 2ms/step - loss: 0.1296\n",
      "Epoch 10/100\n",
      "6/6 [==============================] - 0s 2ms/step - loss: 0.1274\n",
      "Epoch 11/100\n",
      "6/6 [==============================] - 0s 2ms/step - loss: 0.1258\n",
      "Epoch 12/100\n",
      "6/6 [==============================] - 0s 2ms/step - loss: 0.1241\n",
      "Epoch 13/100\n",
      "1/6 [====>.........................] - ETA: 0s - loss: 0.0619"
     ]
    },
    {
     "name": "stderr",
     "output_type": "stream",
     "text": [
      "2022-09-02 15:50:48.243960: I tensorflow/core/grappler/optimizers/custom_graph_optimizer_registry.cc:112] Plugin optimizer for device_type GPU is enabled.\n"
     ]
    },
    {
     "name": "stdout",
     "output_type": "stream",
     "text": [
      "6/6 [==============================] - 0s 2ms/step - loss: 0.1221\n",
      "Epoch 14/100\n",
      "6/6 [==============================] - 0s 2ms/step - loss: 0.1206\n",
      "Epoch 15/100\n",
      "6/6 [==============================] - 0s 2ms/step - loss: 0.1191\n",
      "Epoch 16/100\n",
      "6/6 [==============================] - 0s 2ms/step - loss: 0.1175\n",
      "Epoch 17/100\n",
      "6/6 [==============================] - 0s 2ms/step - loss: 0.1165\n",
      "Epoch 18/100\n",
      "6/6 [==============================] - 0s 2ms/step - loss: 0.1149\n",
      "Epoch 19/100\n",
      "6/6 [==============================] - 0s 2ms/step - loss: 0.1142\n",
      "Epoch 20/100\n",
      "6/6 [==============================] - 0s 2ms/step - loss: 0.1132\n",
      "Epoch 21/100\n",
      "6/6 [==============================] - 0s 2ms/step - loss: 0.1114\n",
      "Epoch 22/100\n",
      "6/6 [==============================] - 0s 2ms/step - loss: 0.1108\n",
      "Epoch 23/100\n",
      "6/6 [==============================] - 0s 2ms/step - loss: 0.1094\n",
      "Epoch 24/100\n",
      "6/6 [==============================] - 0s 2ms/step - loss: 0.1086\n",
      "Epoch 25/100\n",
      "6/6 [==============================] - 0s 2ms/step - loss: 0.1074\n",
      "Epoch 26/100\n",
      "6/6 [==============================] - 0s 2ms/step - loss: 0.1063\n",
      "Epoch 27/100\n",
      "6/6 [==============================] - 0s 2ms/step - loss: 0.1049\n",
      "Epoch 28/100\n",
      "6/6 [==============================] - 0s 2ms/step - loss: 0.1043\n",
      "Epoch 29/100\n",
      "6/6 [==============================] - 0s 2ms/step - loss: 0.1032\n",
      "Epoch 30/100\n",
      "6/6 [==============================] - 0s 2ms/step - loss: 0.1023\n",
      "Epoch 31/100\n",
      "6/6 [==============================] - 0s 2ms/step - loss: 0.1011\n",
      "Epoch 32/100\n",
      "6/6 [==============================] - 0s 2ms/step - loss: 0.0999\n",
      "Epoch 33/100\n",
      "6/6 [==============================] - 0s 4ms/step - loss: 0.0990\n",
      "Epoch 34/100\n",
      "6/6 [==============================] - 0s 5ms/step - loss: 0.0982\n",
      "Epoch 35/100\n",
      "6/6 [==============================] - 0s 2ms/step - loss: 0.0972\n",
      "Epoch 36/100\n",
      "6/6 [==============================] - 0s 2ms/step - loss: 0.0963\n",
      "Epoch 37/100\n",
      "6/6 [==============================] - 0s 2ms/step - loss: 0.0958\n",
      "Epoch 38/100\n",
      "6/6 [==============================] - 0s 3ms/step - loss: 0.0945\n",
      "Epoch 39/100\n",
      "6/6 [==============================] - 0s 3ms/step - loss: 0.0935\n",
      "Epoch 40/100\n",
      "6/6 [==============================] - 0s 3ms/step - loss: 0.0927\n",
      "Epoch 41/100\n",
      "6/6 [==============================] - 0s 3ms/step - loss: 0.0922\n",
      "Epoch 42/100\n",
      "6/6 [==============================] - 0s 3ms/step - loss: 0.0909\n",
      "Epoch 43/100\n",
      "6/6 [==============================] - 0s 2ms/step - loss: 0.0902\n",
      "Epoch 44/100\n",
      "6/6 [==============================] - 0s 3ms/step - loss: 0.0893\n",
      "Epoch 45/100\n",
      "6/6 [==============================] - 0s 3ms/step - loss: 0.0884\n",
      "Epoch 46/100\n",
      "6/6 [==============================] - 0s 2ms/step - loss: 0.0874\n",
      "Epoch 47/100\n",
      "6/6 [==============================] - 0s 2ms/step - loss: 0.0867\n",
      "Epoch 48/100\n",
      "6/6 [==============================] - 0s 5ms/step - loss: 0.0860\n",
      "Epoch 49/100\n",
      "6/6 [==============================] - 0s 3ms/step - loss: 0.0850\n",
      "Epoch 50/100\n",
      "6/6 [==============================] - 0s 2ms/step - loss: 0.0844\n",
      "Epoch 51/100\n",
      "6/6 [==============================] - 0s 2ms/step - loss: 0.0835\n",
      "Epoch 52/100\n",
      "6/6 [==============================] - 0s 2ms/step - loss: 0.0828\n",
      "Epoch 53/100\n",
      "6/6 [==============================] - 0s 3ms/step - loss: 0.0822\n",
      "Epoch 54/100\n",
      "6/6 [==============================] - 0s 3ms/step - loss: 0.0814\n",
      "Epoch 55/100\n",
      "6/6 [==============================] - 0s 2ms/step - loss: 0.0805\n",
      "Epoch 56/100\n",
      "6/6 [==============================] - 0s 2ms/step - loss: 0.0797\n",
      "Epoch 57/100\n",
      "6/6 [==============================] - 0s 2ms/step - loss: 0.0794\n",
      "Epoch 58/100\n",
      "6/6 [==============================] - 0s 3ms/step - loss: 0.0783\n",
      "Epoch 59/100\n",
      "6/6 [==============================] - 0s 2ms/step - loss: 0.0780\n",
      "Epoch 60/100\n",
      "6/6 [==============================] - 0s 2ms/step - loss: 0.0769\n",
      "Epoch 61/100\n",
      "6/6 [==============================] - 0s 2ms/step - loss: 0.0765\n",
      "Epoch 62/100\n",
      "6/6 [==============================] - 0s 3ms/step - loss: 0.0756\n",
      "Epoch 63/100\n",
      "6/6 [==============================] - 0s 2ms/step - loss: 0.0750\n",
      "Epoch 64/100\n",
      "6/6 [==============================] - 0s 2ms/step - loss: 0.0745\n",
      "Epoch 65/100\n",
      "6/6 [==============================] - 0s 2ms/step - loss: 0.0736\n",
      "Epoch 66/100\n",
      "6/6 [==============================] - 0s 2ms/step - loss: 0.0734\n",
      "Epoch 67/100\n",
      "6/6 [==============================] - 0s 2ms/step - loss: 0.0725\n",
      "Epoch 68/100\n",
      "6/6 [==============================] - 0s 2ms/step - loss: 0.0718\n",
      "Epoch 69/100\n",
      "6/6 [==============================] - 0s 2ms/step - loss: 0.0713\n",
      "Epoch 70/100\n",
      "6/6 [==============================] - 0s 2ms/step - loss: 0.0707\n",
      "Epoch 71/100\n",
      "6/6 [==============================] - 0s 2ms/step - loss: 0.0701\n",
      "Epoch 72/100\n",
      "6/6 [==============================] - 0s 3ms/step - loss: 0.0693\n",
      "Epoch 73/100\n",
      "6/6 [==============================] - 0s 2ms/step - loss: 0.0688\n",
      "Epoch 74/100\n",
      "6/6 [==============================] - 0s 2ms/step - loss: 0.0684\n",
      "Epoch 75/100\n",
      "6/6 [==============================] - 0s 2ms/step - loss: 0.0678\n",
      "Epoch 76/100\n",
      "6/6 [==============================] - 0s 3ms/step - loss: 0.0670\n",
      "Epoch 77/100\n",
      "6/6 [==============================] - 0s 3ms/step - loss: 0.0665\n",
      "Epoch 78/100\n",
      "6/6 [==============================] - 0s 2ms/step - loss: 0.0660\n",
      "Epoch 79/100\n",
      "6/6 [==============================] - 0s 3ms/step - loss: 0.0657\n",
      "Epoch 80/100\n",
      "6/6 [==============================] - 0s 2ms/step - loss: 0.0648\n",
      "Epoch 81/100\n",
      "6/6 [==============================] - 0s 2ms/step - loss: 0.0643\n",
      "Epoch 82/100\n",
      "6/6 [==============================] - 0s 2ms/step - loss: 0.0640\n",
      "Epoch 83/100\n",
      "6/6 [==============================] - 0s 2ms/step - loss: 0.0634\n",
      "Epoch 84/100\n",
      "6/6 [==============================] - 0s 2ms/step - loss: 0.0631\n",
      "Epoch 85/100\n",
      "6/6 [==============================] - 0s 2ms/step - loss: 0.0627\n",
      "Epoch 86/100\n",
      "6/6 [==============================] - 0s 2ms/step - loss: 0.0620\n",
      "Epoch 87/100\n",
      "6/6 [==============================] - 0s 2ms/step - loss: 0.0613\n",
      "Epoch 88/100\n",
      "6/6 [==============================] - 0s 2ms/step - loss: 0.0609\n",
      "Epoch 89/100\n",
      "6/6 [==============================] - 0s 3ms/step - loss: 0.0603\n",
      "Epoch 90/100\n",
      "6/6 [==============================] - 0s 3ms/step - loss: 0.0600\n",
      "Epoch 91/100\n",
      "6/6 [==============================] - 0s 2ms/step - loss: 0.0593\n",
      "Epoch 92/100\n",
      "6/6 [==============================] - 0s 3ms/step - loss: 0.0593\n",
      "Epoch 93/100\n",
      "6/6 [==============================] - 0s 2ms/step - loss: 0.0588\n",
      "Epoch 94/100\n",
      "6/6 [==============================] - 0s 2ms/step - loss: 0.0580\n",
      "Epoch 95/100\n",
      "6/6 [==============================] - 0s 2ms/step - loss: 0.0576\n",
      "Epoch 96/100\n",
      "6/6 [==============================] - 0s 2ms/step - loss: 0.0572\n",
      "Epoch 97/100\n",
      "6/6 [==============================] - 0s 2ms/step - loss: 0.0567\n",
      "Epoch 98/100\n",
      "6/6 [==============================] - 0s 2ms/step - loss: 0.0565\n",
      "Epoch 99/100\n",
      "6/6 [==============================] - 0s 2ms/step - loss: 0.0559\n",
      "Epoch 100/100\n",
      "6/6 [==============================] - 0s 2ms/step - loss: 0.0553\n"
     ]
    }
   ],
   "source": [
    "history = model.fit(trainX, trainY, epochs=100, batch_size=5, shuffle=True, verbose=1)"
   ]
  },
  {
   "cell_type": "code",
   "execution_count": 382,
   "metadata": {},
   "outputs": [
    {
     "data": {
      "text/plain": [
       "[<tf.Variable 'dense_2/kernel:0' shape=(1, 1) dtype=float32, numpy=array([[0.89331704]], dtype=float32)>,\n",
       " <tf.Variable 'dense_2/bias:0' shape=(1,) dtype=float32, numpy=array([0.46838346], dtype=float32)>]"
      ]
     },
     "execution_count": 382,
     "metadata": {},
     "output_type": "execute_result"
    }
   ],
   "source": [
    "model.weights"
   ]
  },
  {
   "cell_type": "code",
   "execution_count": 383,
   "metadata": {},
   "outputs": [
    {
     "name": "stdout",
     "output_type": "stream",
     "text": [
      "tf.Tensor(0.89331704, shape=(), dtype=float32) tf.Tensor(0.46838346, shape=(), dtype=float32)\n"
     ]
    }
   ],
   "source": [
    "W2 = model.weights[0][0][0]\n",
    "b2 = model.weights[1][0]\n",
    "print(W2, b2)"
   ]
  },
  {
   "cell_type": "code",
   "execution_count": 384,
   "metadata": {},
   "outputs": [
    {
     "data": {
      "image/png": "[encoded data removed]",
      "text/plain": [
       "<Figure size 1008x504 with 1 Axes>"
      ]
     },
     "metadata": {},
     "output_type": "display_data"
    }
   ],
   "source": [
    "fig, ax = plt.subplots(1,1)\n",
    "plt.rcParams['figure.figsize'] = (14,7)\n",
    "plt.rcParams['figure.facecolor'] = 'w'\n",
    "ax.plot(X, Y, 'ro', label='Original Data')\n",
    "ax.plot(X, np.array( W2*X + b2), label='Fitted Line')\n",
    "plt.legend()\n",
    "plt.show()"
   ]
  },
  {
   "cell_type": "code",
   "execution_count": 385,
   "metadata": {},
   "outputs": [
    {
     "name": "stderr",
     "output_type": "stream",
     "text": [
      "2022-09-02 15:50:50.148542: I tensorflow/core/grappler/optimizers/custom_graph_optimizer_registry.cc:112] Plugin optimizer for device_type GPU is enabled.\n"
     ]
    },
    {
     "data": {
      "text/plain": [
       "0.105758175"
      ]
     },
     "execution_count": 385,
     "metadata": {},
     "output_type": "execute_result"
    }
   ],
   "source": [
    "tpred2 = model.predict(testX)\n",
    "test_mse2 = mean_square(tpred2, testY)\n",
    "test_mse2.numpy()"
   ]
  },
  {
   "cell_type": "code",
   "execution_count": 386,
   "metadata": {},
   "outputs": [
    {
     "data": {
      "image/png": "[encoded data removed]",
      "text/plain": [
       "<Figure size 1008x504 with 1 Axes>"
      ]
     },
     "metadata": {},
     "output_type": "display_data"
    }
   ],
   "source": [
    "fig, ax = plt.subplots(1,1)\n",
    "plt.rcParams['figure.figsize'] = (14,7)\n",
    "plt.rcParams['figure.facecolor'] = 'w'\n",
    "ax.plot(history.history['loss'], label='Loss')\n",
    "ax.set_xlabel('iter')\n",
    "ax.set_ylabel('Train Loss')\n",
    "plt.legend()\n",
    "plt.show()"
   ]
  },
  {
   "cell_type": "code",
   "execution_count": 387,
   "metadata": {},
   "outputs": [
    {
     "data": {
      "image/png": "[encoded data removed]",
      "text/plain": [
       "<Figure size 1008x504 with 1 Axes>"
      ]
     },
     "metadata": {},
     "output_type": "display_data"
    }
   ],
   "source": [
    "fig, ax = plt.subplots(1,1)\n",
    "plt.rcParams['figure.figsize'] = (14,7)\n",
    "plt.rcParams['figure.facecolor'] = 'w'\n",
    "ax.plot(X, Y, 'ro', label='Original Data')\n",
    "ax.plot(X, np.array( W*X + b), label='Fitted Line1')\n",
    "ax.plot(X, np.array( W2*X + b2), label='Fitted Line2')\n",
    "plt.legend()\n",
    "plt.show()"
   ]
  }
 ],
 "metadata": {
  "kernelspec": {
   "display_name": "Python 3.8.12 ('tensorflow')",
   "language": "python",
   "name": "python3"
  },
  "language_info": {
   "codemirror_mode": {
    "name": "ipython",
    "version": 3
   },
   "file_extension": ".py",
   "mimetype": "text/x-python",
   "name": "python",
   "nbconvert_exporter": "python",
   "pygments_lexer": "ipython3",
   "version": "3.8.12"
  },
  "orig_nbformat": 4,
  "vscode": {
   "interpreter": {
    "hash": "4bd624a0593993fe43ac4046b27b898fb2ef75c21c08f81e89e64ea0f51df676"
   }
  }
 },
 "nbformat": 4,
 "nbformat_minor": 2
}
