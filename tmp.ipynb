{
 "cells": [
  {
   "cell_type": "code",
   "execution_count": 1,
   "metadata": {},
   "outputs": [],
   "source": [
    "import numpy as np"
   ]
  },
  {
   "cell_type": "code",
   "execution_count": 12,
   "metadata": {},
   "outputs": [],
   "source": [
    "def sigmoid (x: np.array):\n",
    "    return np.round(1 / (1 + np.exp(-x)), 3)"
   ]
  },
  {
   "cell_type": "code",
   "execution_count": 13,
   "metadata": {},
   "outputs": [
    {
     "data": {
      "text/plain": [
       "(0.535, 0.555, 0.655)"
      ]
     },
     "execution_count": 13,
     "metadata": {},
     "output_type": "execute_result"
    }
   ],
   "source": [
    "sigmoid(0.14), sigmoid(0.22), sigmoid(0.18-0.04+0.5)"
   ]
  },
  {
   "cell_type": "code",
   "execution_count": 14,
   "metadata": {},
   "outputs": [
    {
     "data": {
      "text/plain": [
       "(0.534, 0.627)"
      ]
     },
     "execution_count": 14,
     "metadata": {},
     "output_type": "execute_result"
    }
   ],
   "source": [
    "sigmoid(0.1345), sigmoid(0.5205)"
   ]
  },
  {
   "cell_type": "code",
   "execution_count": 24,
   "metadata": {},
   "outputs": [
    {
     "data": {
      "text/plain": [
       "-0.018857145000000002"
      ]
     },
     "execution_count": 24,
     "metadata": {},
     "output_type": "execute_result"
    }
   ],
   "source": [
    "0.535 * (1-0.535) * (0.116 * (-0.4) + (-0.147) * 0.2)"
   ]
  },
  {
   "cell_type": "code",
   "execution_count": 25,
   "metadata": {},
   "outputs": [
    {
     "data": {
      "text/plain": [
       "0.0064954425"
      ]
     },
     "execution_count": 25,
     "metadata": {},
     "output_type": "execute_result"
    }
   ],
   "source": [
    "0.555 * (1 - 0.555) * (0.116 * 0.1 + (-0.147) * (-0.1))"
   ]
  },
  {
   "cell_type": "code",
   "execution_count": 26,
   "metadata": {},
   "outputs": [
    {
     "data": {
      "text/plain": [
       "0.022371524999999996"
      ]
     },
     "execution_count": 26,
     "metadata": {},
     "output_type": "execute_result"
    }
   ],
   "source": [
    "0.655 * (1- 0.655) * (0.116 * 0.6 + 0.147 * 0.2)"
   ]
  },
  {
   "cell_type": "code",
   "execution_count": 33,
   "metadata": {},
   "outputs": [],
   "source": [
    "def weight_update (w_init, x_arr, delta):\n",
    "    return np.round(w_init + 0.1 * delta * x_arr, 3)"
   ]
  },
  {
   "cell_type": "code",
   "execution_count": 37,
   "metadata": {},
   "outputs": [
    {
     "data": {
      "text/plain": [
       "array([[-0.088],\n",
       "       [-0.394],\n",
       "       [ 0.106],\n",
       "       [ 0.608]])"
      ]
     },
     "execution_count": 37,
     "metadata": {},
     "output_type": "execute_result"
    }
   ],
   "source": [
    "a = np.array([-0.1, -0.4, 0.1, 0.6]).reshape(-1, 1)\n",
    "b = np.array([1, 0.535, 0.555, 0.655]).reshape(-1, 1)\n",
    "\n",
    "edge_2_1 = weight_update(a, b, 0.116)\n",
    "edge_2_1"
   ]
  },
  {
   "cell_type": "code",
   "execution_count": 38,
   "metadata": {},
   "outputs": [
    {
     "data": {
      "text/plain": [
       "array([[ 0.585],\n",
       "       [ 0.192],\n",
       "       [-0.108],\n",
       "       [-0.21 ]])"
      ]
     },
     "execution_count": 38,
     "metadata": {},
     "output_type": "execute_result"
    }
   ],
   "source": [
    "a = np.array([0.6, 0.2, -0.1, -0.2]).reshape(-1, 1)\n",
    "b = np.array([1, 0.535, 0.555, 0.655]).reshape(-1, 1)\n",
    "\n",
    "edge_2_2 = weight_update(a, b, -0.147)\n",
    "edge_2_2"
   ]
  },
  {
   "cell_type": "code",
   "execution_count": 44,
   "metadata": {},
   "outputs": [
    {
     "data": {
      "text/plain": [
       "array([[0.098],\n",
       "       [0.099],\n",
       "       [0.2  ]])"
      ]
     },
     "execution_count": 44,
     "metadata": {},
     "output_type": "execute_result"
    }
   ],
   "source": [
    "a = np.array([0.1, 0.1, 0.2]).reshape(-1, 1)\n",
    "b = np.array([1, 0.6, 0.1]).reshape(-1, 1)\n",
    "edge_1_1 = weight_update(a, b, -0.0189)\n",
    "edge_1_1"
   ]
  },
  {
   "cell_type": "code",
   "execution_count": 45,
   "metadata": {},
   "outputs": [
    {
     "data": {
      "text/plain": [
       "array([[0.201],\n",
       "       [0.   ],\n",
       "       [0.2  ]])"
      ]
     },
     "execution_count": 45,
     "metadata": {},
     "output_type": "execute_result"
    }
   ],
   "source": [
    "a = np.array([0.2, 0, 0.2]).reshape(-1, 1)\n",
    "b = np.array([1, 0.6, 0.1]).reshape(-1, 1)\n",
    "edge_1_2 = weight_update(a, b, 0.0065)\n",
    "edge_1_2"
   ]
  },
  {
   "cell_type": "code",
   "execution_count": 46,
   "metadata": {},
   "outputs": [
    {
     "data": {
      "text/plain": [
       "array([[ 0.5],\n",
       "       [ 0.3],\n",
       "       [-0.4]])"
      ]
     },
     "execution_count": 46,
     "metadata": {},
     "output_type": "execute_result"
    }
   ],
   "source": [
    "a = np.array([0.5, 0.3, -0.4]).reshape(-1, 1)\n",
    "b = np.array([1, 0.6, 0.1]).reshape(-1, 1)\n",
    "edge_1_3 = weight_update(a, b, 0.0024)\n",
    "edge_1_3"
   ]
  }
 ],
 "metadata": {
  "kernelspec": {
   "display_name": "Python 3.8.13 ('quant')",
   "language": "python",
   "name": "python3"
  },
  "language_info": {
   "codemirror_mode": {
    "name": "ipython",
    "version": 3
   },
   "file_extension": ".py",
   "mimetype": "text/x-python",
   "name": "python",
   "nbconvert_exporter": "python",
   "pygments_lexer": "ipython3",
   "version": "3.8.13"
  },
  "orig_nbformat": 4,
  "vscode": {
   "interpreter": {
    "hash": "e7b6214bfe3ce19b2336b5ee82fe9739f68968628bd5eb86b17deae08d37c2fd"
   }
  }
 },
 "nbformat": 4,
 "nbformat_minor": 2
}
